{
  "nbformat": 4,
  "nbformat_minor": 0,
  "metadata": {
    "colab": {
      "name": "Lending Club _ Final_Copy.ipynb",
      "provenance": [],
      "collapsed_sections": []
    },
    "kernelspec": {
      "name": "python3",
      "display_name": "Python 3"
    }
  },
  "cells": [
    {
      "cell_type": "code",
      "metadata": {
        "id": "dyA3zArhKNw2"
      },
      "source": [
        "\n",
        "# import libraries\n",
        "import pandas as pd\n",
        "import numpy as np\n",
        "import matplotlib.pyplot as plt\n",
        "import seaborn as sns\n",
        "from sklearn.model_selection import train_test_split\n",
        "from sklearn.preprocessing import MinMaxScaler\n",
        "from tensorflow.keras.models import Sequential\n",
        "from tensorflow.keras.layers import Dense,Dropout\n",
        "from tensorflow.keras.callbacks import EarlyStopping\n",
        "from tensorflow.keras.models import load_model\n",
        "from sklearn.metrics import confusion_matrix, classification_report\n",
        "from pickle import dump, load\n",
        "\n",
        "\n",
        "%matplotlib inline"
      ],
      "execution_count": null,
      "outputs": []
    },
    {
      "cell_type": "code",
      "metadata": {
        "id": "bLpUlMkdKbQQ"
      },
      "source": [
        "\n",
        "df = pd.read_csv('loan_data.csv')\n"
      ],
      "execution_count": null,
      "outputs": []
    },
    {
      "cell_type": "code",
      "metadata": {
        "id": "Z9xwZrTNMU_o",
        "outputId": "6fad0b51-9523-4217-a5c3-f24e847810bb",
        "colab": {
          "base_uri": "https://localhost:8080/",
          "height": 561
        }
      },
      "source": [
        "df.info()\n",
        "df.head()\n"
      ],
      "execution_count": null,
      "outputs": [
        {
          "output_type": "stream",
          "text": [
            "<class 'pandas.core.frame.DataFrame'>\n",
            "RangeIndex: 9578 entries, 0 to 9577\n",
            "Data columns (total 14 columns):\n",
            " #   Column             Non-Null Count  Dtype  \n",
            "---  ------             --------------  -----  \n",
            " 0   credit.policy      9578 non-null   int64  \n",
            " 1   purpose            9578 non-null   object \n",
            " 2   int.rate           9578 non-null   float64\n",
            " 3   installment        9578 non-null   float64\n",
            " 4   log.annual.inc     9578 non-null   float64\n",
            " 5   dti                9578 non-null   float64\n",
            " 6   fico               9578 non-null   int64  \n",
            " 7   days.with.cr.line  9578 non-null   float64\n",
            " 8   revol.bal          9578 non-null   int64  \n",
            " 9   revol.util         9578 non-null   float64\n",
            " 10  inq.last.6mths     9578 non-null   int64  \n",
            " 11  delinq.2yrs        9578 non-null   int64  \n",
            " 12  pub.rec            9578 non-null   int64  \n",
            " 13  not.fully.paid     9578 non-null   int64  \n",
            "dtypes: float64(6), int64(7), object(1)\n",
            "memory usage: 1.0+ MB\n"
          ],
          "name": "stdout"
        },
        {
          "output_type": "execute_result",
          "data": {
            "text/html": [
              "<div>\n",
              "<style scoped>\n",
              "    .dataframe tbody tr th:only-of-type {\n",
              "        vertical-align: middle;\n",
              "    }\n",
              "\n",
              "    .dataframe tbody tr th {\n",
              "        vertical-align: top;\n",
              "    }\n",
              "\n",
              "    .dataframe thead th {\n",
              "        text-align: right;\n",
              "    }\n",
              "</style>\n",
              "<table border=\"1\" class=\"dataframe\">\n",
              "  <thead>\n",
              "    <tr style=\"text-align: right;\">\n",
              "      <th></th>\n",
              "      <th>credit.policy</th>\n",
              "      <th>purpose</th>\n",
              "      <th>int.rate</th>\n",
              "      <th>installment</th>\n",
              "      <th>log.annual.inc</th>\n",
              "      <th>dti</th>\n",
              "      <th>fico</th>\n",
              "      <th>days.with.cr.line</th>\n",
              "      <th>revol.bal</th>\n",
              "      <th>revol.util</th>\n",
              "      <th>inq.last.6mths</th>\n",
              "      <th>delinq.2yrs</th>\n",
              "      <th>pub.rec</th>\n",
              "      <th>not.fully.paid</th>\n",
              "    </tr>\n",
              "  </thead>\n",
              "  <tbody>\n",
              "    <tr>\n",
              "      <th>0</th>\n",
              "      <td>1</td>\n",
              "      <td>debt_consolidation</td>\n",
              "      <td>0.1189</td>\n",
              "      <td>829.10</td>\n",
              "      <td>11.350407</td>\n",
              "      <td>19.48</td>\n",
              "      <td>737</td>\n",
              "      <td>5639.958333</td>\n",
              "      <td>28854</td>\n",
              "      <td>52.1</td>\n",
              "      <td>0</td>\n",
              "      <td>0</td>\n",
              "      <td>0</td>\n",
              "      <td>0</td>\n",
              "    </tr>\n",
              "    <tr>\n",
              "      <th>1</th>\n",
              "      <td>1</td>\n",
              "      <td>credit_card</td>\n",
              "      <td>0.1071</td>\n",
              "      <td>228.22</td>\n",
              "      <td>11.082143</td>\n",
              "      <td>14.29</td>\n",
              "      <td>707</td>\n",
              "      <td>2760.000000</td>\n",
              "      <td>33623</td>\n",
              "      <td>76.7</td>\n",
              "      <td>0</td>\n",
              "      <td>0</td>\n",
              "      <td>0</td>\n",
              "      <td>0</td>\n",
              "    </tr>\n",
              "    <tr>\n",
              "      <th>2</th>\n",
              "      <td>1</td>\n",
              "      <td>debt_consolidation</td>\n",
              "      <td>0.1357</td>\n",
              "      <td>366.86</td>\n",
              "      <td>10.373491</td>\n",
              "      <td>11.63</td>\n",
              "      <td>682</td>\n",
              "      <td>4710.000000</td>\n",
              "      <td>3511</td>\n",
              "      <td>25.6</td>\n",
              "      <td>1</td>\n",
              "      <td>0</td>\n",
              "      <td>0</td>\n",
              "      <td>0</td>\n",
              "    </tr>\n",
              "    <tr>\n",
              "      <th>3</th>\n",
              "      <td>1</td>\n",
              "      <td>debt_consolidation</td>\n",
              "      <td>0.1008</td>\n",
              "      <td>162.34</td>\n",
              "      <td>11.350407</td>\n",
              "      <td>8.10</td>\n",
              "      <td>712</td>\n",
              "      <td>2699.958333</td>\n",
              "      <td>33667</td>\n",
              "      <td>73.2</td>\n",
              "      <td>1</td>\n",
              "      <td>0</td>\n",
              "      <td>0</td>\n",
              "      <td>0</td>\n",
              "    </tr>\n",
              "    <tr>\n",
              "      <th>4</th>\n",
              "      <td>1</td>\n",
              "      <td>credit_card</td>\n",
              "      <td>0.1426</td>\n",
              "      <td>102.92</td>\n",
              "      <td>11.299732</td>\n",
              "      <td>14.97</td>\n",
              "      <td>667</td>\n",
              "      <td>4066.000000</td>\n",
              "      <td>4740</td>\n",
              "      <td>39.5</td>\n",
              "      <td>0</td>\n",
              "      <td>1</td>\n",
              "      <td>0</td>\n",
              "      <td>0</td>\n",
              "    </tr>\n",
              "  </tbody>\n",
              "</table>\n",
              "</div>"
            ],
            "text/plain": [
              "   credit.policy             purpose  ...  pub.rec  not.fully.paid\n",
              "0              1  debt_consolidation  ...        0               0\n",
              "1              1         credit_card  ...        0               0\n",
              "2              1  debt_consolidation  ...        0               0\n",
              "3              1  debt_consolidation  ...        0               0\n",
              "4              1         credit_card  ...        0               0\n",
              "\n",
              "[5 rows x 14 columns]"
            ]
          },
          "metadata": {
            "tags": []
          },
          "execution_count": 7
        }
      ]
    },
    {
      "cell_type": "code",
      "metadata": {
        "id": "XacDGoKbMlw3",
        "outputId": "aaffb155-9749-4269-b753-2f89f90d766f",
        "colab": {
          "base_uri": "https://localhost:8080/",
          "height": 452
        }
      },
      "source": [
        "\n",
        "df.describe().transpose()"
      ],
      "execution_count": null,
      "outputs": [
        {
          "output_type": "execute_result",
          "data": {
            "text/html": [
              "<div>\n",
              "<style scoped>\n",
              "    .dataframe tbody tr th:only-of-type {\n",
              "        vertical-align: middle;\n",
              "    }\n",
              "\n",
              "    .dataframe tbody tr th {\n",
              "        vertical-align: top;\n",
              "    }\n",
              "\n",
              "    .dataframe thead th {\n",
              "        text-align: right;\n",
              "    }\n",
              "</style>\n",
              "<table border=\"1\" class=\"dataframe\">\n",
              "  <thead>\n",
              "    <tr style=\"text-align: right;\">\n",
              "      <th></th>\n",
              "      <th>count</th>\n",
              "      <th>mean</th>\n",
              "      <th>std</th>\n",
              "      <th>min</th>\n",
              "      <th>25%</th>\n",
              "      <th>50%</th>\n",
              "      <th>75%</th>\n",
              "      <th>max</th>\n",
              "    </tr>\n",
              "  </thead>\n",
              "  <tbody>\n",
              "    <tr>\n",
              "      <th>credit.policy</th>\n",
              "      <td>9578.0</td>\n",
              "      <td>0.804970</td>\n",
              "      <td>0.396245</td>\n",
              "      <td>0.000000</td>\n",
              "      <td>1.000000</td>\n",
              "      <td>1.000000</td>\n",
              "      <td>1.000000</td>\n",
              "      <td>1.000000e+00</td>\n",
              "    </tr>\n",
              "    <tr>\n",
              "      <th>int.rate</th>\n",
              "      <td>9578.0</td>\n",
              "      <td>0.122640</td>\n",
              "      <td>0.026847</td>\n",
              "      <td>0.060000</td>\n",
              "      <td>0.103900</td>\n",
              "      <td>0.122100</td>\n",
              "      <td>0.140700</td>\n",
              "      <td>2.164000e-01</td>\n",
              "    </tr>\n",
              "    <tr>\n",
              "      <th>installment</th>\n",
              "      <td>9578.0</td>\n",
              "      <td>319.089413</td>\n",
              "      <td>207.071301</td>\n",
              "      <td>15.670000</td>\n",
              "      <td>163.770000</td>\n",
              "      <td>268.950000</td>\n",
              "      <td>432.762500</td>\n",
              "      <td>9.401400e+02</td>\n",
              "    </tr>\n",
              "    <tr>\n",
              "      <th>log.annual.inc</th>\n",
              "      <td>9578.0</td>\n",
              "      <td>10.932117</td>\n",
              "      <td>0.614813</td>\n",
              "      <td>7.547502</td>\n",
              "      <td>10.558414</td>\n",
              "      <td>10.928884</td>\n",
              "      <td>11.291293</td>\n",
              "      <td>1.452835e+01</td>\n",
              "    </tr>\n",
              "    <tr>\n",
              "      <th>dti</th>\n",
              "      <td>9578.0</td>\n",
              "      <td>12.606679</td>\n",
              "      <td>6.883970</td>\n",
              "      <td>0.000000</td>\n",
              "      <td>7.212500</td>\n",
              "      <td>12.665000</td>\n",
              "      <td>17.950000</td>\n",
              "      <td>2.996000e+01</td>\n",
              "    </tr>\n",
              "    <tr>\n",
              "      <th>fico</th>\n",
              "      <td>9578.0</td>\n",
              "      <td>710.846314</td>\n",
              "      <td>37.970537</td>\n",
              "      <td>612.000000</td>\n",
              "      <td>682.000000</td>\n",
              "      <td>707.000000</td>\n",
              "      <td>737.000000</td>\n",
              "      <td>8.270000e+02</td>\n",
              "    </tr>\n",
              "    <tr>\n",
              "      <th>days.with.cr.line</th>\n",
              "      <td>9578.0</td>\n",
              "      <td>4560.767197</td>\n",
              "      <td>2496.930377</td>\n",
              "      <td>178.958333</td>\n",
              "      <td>2820.000000</td>\n",
              "      <td>4139.958333</td>\n",
              "      <td>5730.000000</td>\n",
              "      <td>1.763996e+04</td>\n",
              "    </tr>\n",
              "    <tr>\n",
              "      <th>revol.bal</th>\n",
              "      <td>9578.0</td>\n",
              "      <td>16913.963876</td>\n",
              "      <td>33756.189557</td>\n",
              "      <td>0.000000</td>\n",
              "      <td>3187.000000</td>\n",
              "      <td>8596.000000</td>\n",
              "      <td>18249.500000</td>\n",
              "      <td>1.207359e+06</td>\n",
              "    </tr>\n",
              "    <tr>\n",
              "      <th>revol.util</th>\n",
              "      <td>9578.0</td>\n",
              "      <td>46.799236</td>\n",
              "      <td>29.014417</td>\n",
              "      <td>0.000000</td>\n",
              "      <td>22.600000</td>\n",
              "      <td>46.300000</td>\n",
              "      <td>70.900000</td>\n",
              "      <td>1.190000e+02</td>\n",
              "    </tr>\n",
              "    <tr>\n",
              "      <th>inq.last.6mths</th>\n",
              "      <td>9578.0</td>\n",
              "      <td>1.577469</td>\n",
              "      <td>2.200245</td>\n",
              "      <td>0.000000</td>\n",
              "      <td>0.000000</td>\n",
              "      <td>1.000000</td>\n",
              "      <td>2.000000</td>\n",
              "      <td>3.300000e+01</td>\n",
              "    </tr>\n",
              "    <tr>\n",
              "      <th>delinq.2yrs</th>\n",
              "      <td>9578.0</td>\n",
              "      <td>0.163708</td>\n",
              "      <td>0.546215</td>\n",
              "      <td>0.000000</td>\n",
              "      <td>0.000000</td>\n",
              "      <td>0.000000</td>\n",
              "      <td>0.000000</td>\n",
              "      <td>1.300000e+01</td>\n",
              "    </tr>\n",
              "    <tr>\n",
              "      <th>pub.rec</th>\n",
              "      <td>9578.0</td>\n",
              "      <td>0.062122</td>\n",
              "      <td>0.262126</td>\n",
              "      <td>0.000000</td>\n",
              "      <td>0.000000</td>\n",
              "      <td>0.000000</td>\n",
              "      <td>0.000000</td>\n",
              "      <td>5.000000e+00</td>\n",
              "    </tr>\n",
              "    <tr>\n",
              "      <th>not.fully.paid</th>\n",
              "      <td>9578.0</td>\n",
              "      <td>0.160054</td>\n",
              "      <td>0.366676</td>\n",
              "      <td>0.000000</td>\n",
              "      <td>0.000000</td>\n",
              "      <td>0.000000</td>\n",
              "      <td>0.000000</td>\n",
              "      <td>1.000000e+00</td>\n",
              "    </tr>\n",
              "  </tbody>\n",
              "</table>\n",
              "</div>"
            ],
            "text/plain": [
              "                    count          mean  ...           75%           max\n",
              "credit.policy      9578.0      0.804970  ...      1.000000  1.000000e+00\n",
              "int.rate           9578.0      0.122640  ...      0.140700  2.164000e-01\n",
              "installment        9578.0    319.089413  ...    432.762500  9.401400e+02\n",
              "log.annual.inc     9578.0     10.932117  ...     11.291293  1.452835e+01\n",
              "dti                9578.0     12.606679  ...     17.950000  2.996000e+01\n",
              "fico               9578.0    710.846314  ...    737.000000  8.270000e+02\n",
              "days.with.cr.line  9578.0   4560.767197  ...   5730.000000  1.763996e+04\n",
              "revol.bal          9578.0  16913.963876  ...  18249.500000  1.207359e+06\n",
              "revol.util         9578.0     46.799236  ...     70.900000  1.190000e+02\n",
              "inq.last.6mths     9578.0      1.577469  ...      2.000000  3.300000e+01\n",
              "delinq.2yrs        9578.0      0.163708  ...      0.000000  1.300000e+01\n",
              "pub.rec            9578.0      0.062122  ...      0.000000  5.000000e+00\n",
              "not.fully.paid     9578.0      0.160054  ...      0.000000  1.000000e+00\n",
              "\n",
              "[13 rows x 8 columns]"
            ]
          },
          "metadata": {
            "tags": []
          },
          "execution_count": 8
        }
      ]
    },
    {
      "cell_type": "code",
      "metadata": {
        "id": "YrSD_sp6B5ss",
        "outputId": "defb70c7-e420-4d2b-d32c-5d838397d178",
        "colab": {
          "base_uri": "https://localhost:8080/"
        }
      },
      "source": [
        "df['not.fully.paid'].isnull().mean()"
      ],
      "execution_count": null,
      "outputs": [
        {
          "output_type": "execute_result",
          "data": {
            "text/plain": [
              "0.0"
            ]
          },
          "metadata": {
            "tags": []
          },
          "execution_count": 9
        }
      ]
    },
    {
      "cell_type": "code",
      "metadata": {
        "id": "MqVpB62gC7cx"
      },
      "source": [
        "df1=pd.get_dummies(df, columns=['purpose'])"
      ],
      "execution_count": null,
      "outputs": []
    },
    {
      "cell_type": "code",
      "metadata": {
        "id": "B_UF64O7DvcK"
      },
      "source": [
        "df1['log.annual.inc'] = np.exp(df1['log.annual.inc'])"
      ],
      "execution_count": null,
      "outputs": []
    },
    {
      "cell_type": "code",
      "metadata": {
        "id": "YWGZELt6D85J",
        "outputId": "b30a6314-7fd2-41e4-c1a5-f88ca409679c",
        "colab": {
          "base_uri": "https://localhost:8080/",
          "height": 224
        }
      },
      "source": [
        "df1.head()"
      ],
      "execution_count": null,
      "outputs": [
        {
          "output_type": "execute_result",
          "data": {
            "text/html": [
              "<div>\n",
              "<style scoped>\n",
              "    .dataframe tbody tr th:only-of-type {\n",
              "        vertical-align: middle;\n",
              "    }\n",
              "\n",
              "    .dataframe tbody tr th {\n",
              "        vertical-align: top;\n",
              "    }\n",
              "\n",
              "    .dataframe thead th {\n",
              "        text-align: right;\n",
              "    }\n",
              "</style>\n",
              "<table border=\"1\" class=\"dataframe\">\n",
              "  <thead>\n",
              "    <tr style=\"text-align: right;\">\n",
              "      <th></th>\n",
              "      <th>credit.policy</th>\n",
              "      <th>int.rate</th>\n",
              "      <th>installment</th>\n",
              "      <th>log.annual.inc</th>\n",
              "      <th>dti</th>\n",
              "      <th>fico</th>\n",
              "      <th>days.with.cr.line</th>\n",
              "      <th>revol.bal</th>\n",
              "      <th>revol.util</th>\n",
              "      <th>inq.last.6mths</th>\n",
              "      <th>delinq.2yrs</th>\n",
              "      <th>pub.rec</th>\n",
              "      <th>not.fully.paid</th>\n",
              "      <th>purpose_all_other</th>\n",
              "      <th>purpose_credit_card</th>\n",
              "      <th>purpose_debt_consolidation</th>\n",
              "      <th>purpose_educational</th>\n",
              "      <th>purpose_home_improvement</th>\n",
              "      <th>purpose_major_purchase</th>\n",
              "      <th>purpose_small_business</th>\n",
              "    </tr>\n",
              "  </thead>\n",
              "  <tbody>\n",
              "    <tr>\n",
              "      <th>0</th>\n",
              "      <td>1</td>\n",
              "      <td>0.1189</td>\n",
              "      <td>829.10</td>\n",
              "      <td>85000.000385</td>\n",
              "      <td>19.48</td>\n",
              "      <td>737</td>\n",
              "      <td>5639.958333</td>\n",
              "      <td>28854</td>\n",
              "      <td>52.1</td>\n",
              "      <td>0</td>\n",
              "      <td>0</td>\n",
              "      <td>0</td>\n",
              "      <td>0</td>\n",
              "      <td>0</td>\n",
              "      <td>0</td>\n",
              "      <td>1</td>\n",
              "      <td>0</td>\n",
              "      <td>0</td>\n",
              "      <td>0</td>\n",
              "      <td>0</td>\n",
              "    </tr>\n",
              "    <tr>\n",
              "      <th>1</th>\n",
              "      <td>1</td>\n",
              "      <td>0.1071</td>\n",
              "      <td>228.22</td>\n",
              "      <td>65000.000073</td>\n",
              "      <td>14.29</td>\n",
              "      <td>707</td>\n",
              "      <td>2760.000000</td>\n",
              "      <td>33623</td>\n",
              "      <td>76.7</td>\n",
              "      <td>0</td>\n",
              "      <td>0</td>\n",
              "      <td>0</td>\n",
              "      <td>0</td>\n",
              "      <td>0</td>\n",
              "      <td>1</td>\n",
              "      <td>0</td>\n",
              "      <td>0</td>\n",
              "      <td>0</td>\n",
              "      <td>0</td>\n",
              "      <td>0</td>\n",
              "    </tr>\n",
              "    <tr>\n",
              "      <th>2</th>\n",
              "      <td>1</td>\n",
              "      <td>0.1357</td>\n",
              "      <td>366.86</td>\n",
              "      <td>31999.999943</td>\n",
              "      <td>11.63</td>\n",
              "      <td>682</td>\n",
              "      <td>4710.000000</td>\n",
              "      <td>3511</td>\n",
              "      <td>25.6</td>\n",
              "      <td>1</td>\n",
              "      <td>0</td>\n",
              "      <td>0</td>\n",
              "      <td>0</td>\n",
              "      <td>0</td>\n",
              "      <td>0</td>\n",
              "      <td>1</td>\n",
              "      <td>0</td>\n",
              "      <td>0</td>\n",
              "      <td>0</td>\n",
              "      <td>0</td>\n",
              "    </tr>\n",
              "    <tr>\n",
              "      <th>3</th>\n",
              "      <td>1</td>\n",
              "      <td>0.1008</td>\n",
              "      <td>162.34</td>\n",
              "      <td>85000.000385</td>\n",
              "      <td>8.10</td>\n",
              "      <td>712</td>\n",
              "      <td>2699.958333</td>\n",
              "      <td>33667</td>\n",
              "      <td>73.2</td>\n",
              "      <td>1</td>\n",
              "      <td>0</td>\n",
              "      <td>0</td>\n",
              "      <td>0</td>\n",
              "      <td>0</td>\n",
              "      <td>0</td>\n",
              "      <td>1</td>\n",
              "      <td>0</td>\n",
              "      <td>0</td>\n",
              "      <td>0</td>\n",
              "      <td>0</td>\n",
              "    </tr>\n",
              "    <tr>\n",
              "      <th>4</th>\n",
              "      <td>1</td>\n",
              "      <td>0.1426</td>\n",
              "      <td>102.92</td>\n",
              "      <td>80799.999636</td>\n",
              "      <td>14.97</td>\n",
              "      <td>667</td>\n",
              "      <td>4066.000000</td>\n",
              "      <td>4740</td>\n",
              "      <td>39.5</td>\n",
              "      <td>0</td>\n",
              "      <td>1</td>\n",
              "      <td>0</td>\n",
              "      <td>0</td>\n",
              "      <td>0</td>\n",
              "      <td>1</td>\n",
              "      <td>0</td>\n",
              "      <td>0</td>\n",
              "      <td>0</td>\n",
              "      <td>0</td>\n",
              "      <td>0</td>\n",
              "    </tr>\n",
              "  </tbody>\n",
              "</table>\n",
              "</div>"
            ],
            "text/plain": [
              "   credit.policy  int.rate  ...  purpose_major_purchase  purpose_small_business\n",
              "0              1    0.1189  ...                       0                       0\n",
              "1              1    0.1071  ...                       0                       0\n",
              "2              1    0.1357  ...                       0                       0\n",
              "3              1    0.1008  ...                       0                       0\n",
              "4              1    0.1426  ...                       0                       0\n",
              "\n",
              "[5 rows x 20 columns]"
            ]
          },
          "metadata": {
            "tags": []
          },
          "execution_count": 16
        }
      ]
    },
    {
      "cell_type": "code",
      "metadata": {
        "id": "KryPmqY8CDYC",
        "outputId": "89cd88b2-2252-499f-cfdf-4134768c57ea",
        "colab": {
          "base_uri": "https://localhost:8080/"
        }
      },
      "source": [
        "df.groupby('not.fully.paid')['not.fully.paid'].count()/len(df)"
      ],
      "execution_count": null,
      "outputs": [
        {
          "output_type": "execute_result",
          "data": {
            "text/plain": [
              "not.fully.paid\n",
              "0    0.839946\n",
              "1    0.160054\n",
              "Name: not.fully.paid, dtype: float64"
            ]
          },
          "metadata": {
            "tags": []
          },
          "execution_count": 10
        }
      ]
    },
    {
      "cell_type": "code",
      "metadata": {
        "id": "y8lVe87DCRZg",
        "outputId": "8bc70977-580d-452c-9ec4-456175c48f55",
        "colab": {
          "base_uri": "https://localhost:8080/",
          "height": 296
        }
      },
      "source": [
        "sns.set_style('darkgrid')\n",
        "sns.countplot(x='not.fully.paid', data=df)"
      ],
      "execution_count": null,
      "outputs": [
        {
          "output_type": "execute_result",
          "data": {
            "text/plain": [
              "<matplotlib.axes._subplots.AxesSubplot at 0x7fe3fcbda6d8>"
            ]
          },
          "metadata": {
            "tags": []
          },
          "execution_count": 11
        },
        {
          "output_type": "display_data",
          "data": {
            "image/png": "[encoded data removed]",
            "text/plain": [
              "<Figure size 432x288 with 1 Axes>"
            ]
          },
          "metadata": {
            "tags": []
          }
        }
      ]
    },
    {
      "cell_type": "code",
      "metadata": {
        "id": "coCYDHacLY1H"
      },
      "source": [
        "count_class_0, count_class_1 = df['not.fully.paid'].value_counts()"
      ],
      "execution_count": null,
      "outputs": []
    },
    {
      "cell_type": "code",
      "metadata": {
        "id": "MOyJSAy4Mjgk"
      },
      "source": [
        "df_0 = df[df['not.fully.paid'] == 0]\n",
        "df_1 = df[df['not.fully.paid'] == 1]"
      ],
      "execution_count": null,
      "outputs": []
    },
    {
      "cell_type": "code",
      "metadata": {
        "id": "hjhir6agM2IX"
      },
      "source": [
        "df_1_over = df_1.sample(count_class_0, replace=True)\n",
        "df_test_over = pd.concat([df_0, df_1_over], axis=0)"
      ],
      "execution_count": null,
      "outputs": []
    },
    {
      "cell_type": "code",
      "metadata": {
        "id": "SlXPkN6ONDqK",
        "outputId": "19873f66-ba67-4218-8f50-fe892198dc75",
        "colab": {
          "base_uri": "https://localhost:8080/"
        }
      },
      "source": [
        "print('Random over-sampling:')\n",
        "print(df_test_over['not.fully.paid'].value_counts())"
      ],
      "execution_count": null,
      "outputs": [
        {
          "output_type": "stream",
          "text": [
            "Random over-sampling:\n",
            "1    8045\n",
            "0    8045\n",
            "Name: not.fully.paid, dtype: int64\n"
          ],
          "name": "stdout"
        }
      ]
    },
    {
      "cell_type": "code",
      "metadata": {
        "id": "EiTk1yd-NPOy",
        "outputId": "8f675a00-fa25-4db0-cac9-8d58092832db",
        "colab": {
          "base_uri": "https://localhost:8080/",
          "height": 296
        }
      },
      "source": [
        "#df_test_over['not.fully.paid'].value_counts().plot(kind='bar', title='Count (not.fully.paid)')\n",
        "\n",
        "sns.set_style('darkgrid')\n",
        "sns.countplot(x='not.fully.paid', data=df_test_over)"
      ],
      "execution_count": null,
      "outputs": [
        {
          "output_type": "execute_result",
          "data": {
            "text/plain": [
              "<matplotlib.axes._subplots.AxesSubplot at 0x7fe3c3d0ab38>"
            ]
          },
          "metadata": {
            "tags": []
          },
          "execution_count": 31
        },
        {
          "output_type": "display_data",
          "data": {
            "image/png": "[encoded data removed]",
            "text/plain": [
              "<Figure size 432x288 with 1 Axes>"
            ]
          },
          "metadata": {
            "tags": []
          }
        }
      ]
    },
    {
      "cell_type": "code",
      "metadata": {
        "id": "biSAJf9NCoxR",
        "outputId": "cc39354e-4f4e-428a-b5a7-b1997e4330e1",
        "colab": {
          "base_uri": "https://localhost:8080/",
          "height": 404
        }
      },
      "source": [
        "df['revol.bal'].hist(figsize=[12,6], bins=50)"
      ],
      "execution_count": null,
      "outputs": [
        {
          "output_type": "execute_result",
          "data": {
            "text/plain": [
              "<matplotlib.axes._subplots.AxesSubplot at 0x7fe3c3bcbf98>"
            ]
          },
          "metadata": {
            "tags": []
          },
          "execution_count": 33
        },
        {
          "output_type": "display_data",
          "data": {
            "image/png": "[encoded data removed]",
            "text/plain": [
              "<Figure size 864x432 with 1 Axes>"
            ]
          },
          "metadata": {
            "tags": []
          }
        }
      ]
    },
    {
      "cell_type": "code",
      "metadata": {
        "id": "1dcn6dnMUGsk"
      },
      "source": [
        "df1=pd.get_dummies(df, columns=['purpose'])"
      ],
      "execution_count": null,
      "outputs": []
    },
    {
      "cell_type": "code",
      "metadata": {
        "id": "xtwq20KCMypy",
        "outputId": "df106e83-5e0e-4d46-de70-162da0389328",
        "colab": {
          "base_uri": "https://localhost:8080/",
          "height": 405
        }
      },
      "source": [
        "plt.figure(figsize=(10,6))\n",
        "df[df['credit.policy']==1]['fico'].hist(alpha=0.5,color='blue',bins=30,label='Credit.Policy=1')\n",
        "df[df['credit.policy']==0]['fico'].hist(alpha=0.5,color='red',bins=30,label='Credit.Policy=0')\n",
        "plt.legend()\n",
        "plt.xlabel('FICO')"
      ],
      "execution_count": null,
      "outputs": [
        {
          "output_type": "execute_result",
          "data": {
            "text/plain": [
              "Text(0.5, 0, 'FICO')"
            ]
          },
          "metadata": {
            "tags": []
          },
          "execution_count": 19
        },
        {
          "output_type": "display_data",
          "data": {
            "image/png": "[encoded data removed]",
            "text/plain": [
              "<Figure size 720x432 with 1 Axes>"
            ]
          },
          "metadata": {
            "tags": [],
            "needs_background": "light"
          }
        }
      ]
    },
    {
      "cell_type": "code",
      "metadata": {
        "id": "9AVf5OdbQvSU",
        "outputId": "d9eb0f9b-1823-4b70-ce0f-309b8e97d31e",
        "colab": {
          "base_uri": "https://localhost:8080/",
          "height": 405
        }
      },
      "source": [
        "plt.figure(figsize=(10,6))\n",
        "df[df['not.fully.paid']==1]['fico'].hist(alpha=0.5,color='blue',\n",
        "                                              bins=30,label='not.fully.paid=1')\n",
        "df[df['not.fully.paid']==0]['fico'].hist(alpha=0.5,color='red',\n",
        "                                              bins=30,label='not.fully.paid=0')\n",
        "plt.legend()\n",
        "plt.xlabel('FICO')"
      ],
      "execution_count": null,
      "outputs": [
        {
          "output_type": "execute_result",
          "data": {
            "text/plain": [
              "Text(0.5, 0, 'FICO')"
            ]
          },
          "metadata": {
            "tags": []
          },
          "execution_count": 20
        },
        {
          "output_type": "display_data",
          "data": {
            "image/png": "[encoded data removed]",
            "text/plain": [
              "<Figure size 720x432 with 1 Axes>"
            ]
          },
          "metadata": {
            "tags": [],
            "needs_background": "light"
          }
        }
      ]
    },
    {
      "cell_type": "code",
      "metadata": {
        "id": "zcEjnMAFRAGI",
        "outputId": "497270c3-acf6-4b1a-b8f7-a81b1db6a9bb",
        "colab": {
          "base_uri": "https://localhost:8080/",
          "height": 462
        }
      },
      "source": [
        "plt.figure(figsize=(11,7))\n",
        "sns.countplot(x='purpose',hue='not.fully.paid',data=df,palette='Set1')"
      ],
      "execution_count": null,
      "outputs": [
        {
          "output_type": "execute_result",
          "data": {
            "text/plain": [
              "<matplotlib.axes._subplots.AxesSubplot at 0x7fb013a2ce80>"
            ]
          },
          "metadata": {
            "tags": []
          },
          "execution_count": 21
        },
        {
          "output_type": "display_data",
          "data": {
            "image/png": "[encoded data removed]",
            "text/plain": [
              "<Figure size 792x504 with 1 Axes>"
            ]
          },
          "metadata": {
            "tags": [],
            "needs_background": "light"
          }
        }
      ]
    },
    {
      "cell_type": "code",
      "metadata": {
        "id": "aQquyZ44RFio",
        "outputId": "2915f44e-ad23-4a58-8170-a95790a9dde1",
        "colab": {
          "base_uri": "https://localhost:8080/",
          "height": 458
        }
      },
      "source": [
        "sns.jointplot(x='fico',y='int.rate',data=df,color='purple')"
      ],
      "execution_count": null,
      "outputs": [
        {
          "output_type": "execute_result",
          "data": {
            "text/plain": [
              "<seaborn.axisgrid.JointGrid at 0x7fb01263fd68>"
            ]
          },
          "metadata": {
            "tags": []
          },
          "execution_count": 23
        },
        {
          "output_type": "display_data",
          "data": {
            "image/png": "[encoded data removed]",
            "text/plain": [
              "<Figure size 432x432 with 3 Axes>"
            ]
          },
          "metadata": {
            "tags": [],
            "needs_background": "light"
          }
        }
      ]
    },
    {
      "cell_type": "code",
      "metadata": {
        "id": "4CKrqyaBRLl1",
        "outputId": "17b223dd-fd62-41fa-a63e-90ce729aa2f3",
        "colab": {
          "base_uri": "https://localhost:8080/",
          "height": 417
        }
      },
      "source": [
        "plt.figure(figsize=(11,7))\n",
        "sns.lmplot(y='int.rate',x='fico',data=df,hue='credit.policy',\n",
        "           col='not.fully.paid',palette='Set1')"
      ],
      "execution_count": null,
      "outputs": [
        {
          "output_type": "execute_result",
          "data": {
            "text/plain": [
              "<seaborn.axisgrid.FacetGrid at 0x7fb00dcdf668>"
            ]
          },
          "metadata": {
            "tags": []
          },
          "execution_count": 28
        },
        {
          "output_type": "display_data",
          "data": {
            "text/plain": [
              "<Figure size 792x504 with 0 Axes>"
            ]
          },
          "metadata": {
            "tags": []
          }
        },
        {
          "output_type": "display_data",
          "data": {
            "image/png": "[encoded data removed]",
            "text/plain": [
              "<Figure size 789.25x360 with 2 Axes>"
            ]
          },
          "metadata": {
            "tags": [],
            "needs_background": "light"
          }
        }
      ]
    },
    {
      "cell_type": "code",
      "metadata": {
        "id": "1FwSDb_URUhc"
      },
      "source": [
        "cat_feats = ['purpose']\n",
        "#cat_feats =df_test_over"
      ],
      "execution_count": null,
      "outputs": []
    },
    {
      "cell_type": "code",
      "metadata": {
        "id": "a2iTUQ1PRYEz"
      },
      "source": [
        "#final_data = pd.get_dummies(df,columns=cat_feats,drop_first=True)\n",
        "final_data = pd.get_dummies(df_test_over,columns=cat_feats,drop_first=True)"
      ],
      "execution_count": null,
      "outputs": []
    },
    {
      "cell_type": "code",
      "metadata": {
        "id": "f89bHKqcRhDh",
        "outputId": "c06c6599-2f85-4654-ab0c-616a27fff28e",
        "colab": {
          "base_uri": "https://localhost:8080/",
          "height": 666
        }
      },
      "source": [
        "final_data.info()\n",
        "final_data.head()"
      ],
      "execution_count": null,
      "outputs": [
        {
          "output_type": "stream",
          "text": [
            "<class 'pandas.core.frame.DataFrame'>\n",
            "Int64Index: 16090 entries, 0 to 182\n",
            "Data columns (total 19 columns):\n",
            " #   Column                      Non-Null Count  Dtype  \n",
            "---  ------                      --------------  -----  \n",
            " 0   credit.policy               16090 non-null  int64  \n",
            " 1   int.rate                    16090 non-null  float64\n",
            " 2   installment                 16090 non-null  float64\n",
            " 3   log.annual.inc              16090 non-null  float64\n",
            " 4   dti                         16090 non-null  float64\n",
            " 5   fico                        16090 non-null  int64  \n",
            " 6   days.with.cr.line           16090 non-null  float64\n",
            " 7   revol.bal                   16090 non-null  int64  \n",
            " 8   revol.util                  16090 non-null  float64\n",
            " 9   inq.last.6mths              16090 non-null  int64  \n",
            " 10  delinq.2yrs                 16090 non-null  int64  \n",
            " 11  pub.rec                     16090 non-null  int64  \n",
            " 12  not.fully.paid              16090 non-null  int64  \n",
            " 13  purpose_credit_card         16090 non-null  uint8  \n",
            " 14  purpose_debt_consolidation  16090 non-null  uint8  \n",
            " 15  purpose_educational         16090 non-null  uint8  \n",
            " 16  purpose_home_improvement    16090 non-null  uint8  \n",
            " 17  purpose_major_purchase      16090 non-null  uint8  \n",
            " 18  purpose_small_business      16090 non-null  uint8  \n",
            "dtypes: float64(6), int64(7), uint8(6)\n",
            "memory usage: 2.1 MB\n"
          ],
          "name": "stdout"
        },
        {
          "output_type": "execute_result",
          "data": {
            "text/html": [
              "<div>\n",
              "<style scoped>\n",
              "    .dataframe tbody tr th:only-of-type {\n",
              "        vertical-align: middle;\n",
              "    }\n",
              "\n",
              "    .dataframe tbody tr th {\n",
              "        vertical-align: top;\n",
              "    }\n",
              "\n",
              "    .dataframe thead th {\n",
              "        text-align: right;\n",
              "    }\n",
              "</style>\n",
              "<table border=\"1\" class=\"dataframe\">\n",
              "  <thead>\n",
              "    <tr style=\"text-align: right;\">\n",
              "      <th></th>\n",
              "      <th>credit.policy</th>\n",
              "      <th>int.rate</th>\n",
              "      <th>installment</th>\n",
              "      <th>log.annual.inc</th>\n",
              "      <th>dti</th>\n",
              "      <th>fico</th>\n",
              "      <th>days.with.cr.line</th>\n",
              "      <th>revol.bal</th>\n",
              "      <th>revol.util</th>\n",
              "      <th>inq.last.6mths</th>\n",
              "      <th>delinq.2yrs</th>\n",
              "      <th>pub.rec</th>\n",
              "      <th>not.fully.paid</th>\n",
              "      <th>purpose_credit_card</th>\n",
              "      <th>purpose_debt_consolidation</th>\n",
              "      <th>purpose_educational</th>\n",
              "      <th>purpose_home_improvement</th>\n",
              "      <th>purpose_major_purchase</th>\n",
              "      <th>purpose_small_business</th>\n",
              "    </tr>\n",
              "  </thead>\n",
              "  <tbody>\n",
              "    <tr>\n",
              "      <th>0</th>\n",
              "      <td>1</td>\n",
              "      <td>0.1189</td>\n",
              "      <td>829.10</td>\n",
              "      <td>11.350407</td>\n",
              "      <td>19.48</td>\n",
              "      <td>737</td>\n",
              "      <td>5639.958333</td>\n",
              "      <td>28854</td>\n",
              "      <td>52.1</td>\n",
              "      <td>0</td>\n",
              "      <td>0</td>\n",
              "      <td>0</td>\n",
              "      <td>0</td>\n",
              "      <td>0</td>\n",
              "      <td>1</td>\n",
              "      <td>0</td>\n",
              "      <td>0</td>\n",
              "      <td>0</td>\n",
              "      <td>0</td>\n",
              "    </tr>\n",
              "    <tr>\n",
              "      <th>1</th>\n",
              "      <td>1</td>\n",
              "      <td>0.1071</td>\n",
              "      <td>228.22</td>\n",
              "      <td>11.082143</td>\n",
              "      <td>14.29</td>\n",
              "      <td>707</td>\n",
              "      <td>2760.000000</td>\n",
              "      <td>33623</td>\n",
              "      <td>76.7</td>\n",
              "      <td>0</td>\n",
              "      <td>0</td>\n",
              "      <td>0</td>\n",
              "      <td>0</td>\n",
              "      <td>1</td>\n",
              "      <td>0</td>\n",
              "      <td>0</td>\n",
              "      <td>0</td>\n",
              "      <td>0</td>\n",
              "      <td>0</td>\n",
              "    </tr>\n",
              "    <tr>\n",
              "      <th>2</th>\n",
              "      <td>1</td>\n",
              "      <td>0.1357</td>\n",
              "      <td>366.86</td>\n",
              "      <td>10.373491</td>\n",
              "      <td>11.63</td>\n",
              "      <td>682</td>\n",
              "      <td>4710.000000</td>\n",
              "      <td>3511</td>\n",
              "      <td>25.6</td>\n",
              "      <td>1</td>\n",
              "      <td>0</td>\n",
              "      <td>0</td>\n",
              "      <td>0</td>\n",
              "      <td>0</td>\n",
              "      <td>1</td>\n",
              "      <td>0</td>\n",
              "      <td>0</td>\n",
              "      <td>0</td>\n",
              "      <td>0</td>\n",
              "    </tr>\n",
              "    <tr>\n",
              "      <th>3</th>\n",
              "      <td>1</td>\n",
              "      <td>0.1008</td>\n",
              "      <td>162.34</td>\n",
              "      <td>11.350407</td>\n",
              "      <td>8.10</td>\n",
              "      <td>712</td>\n",
              "      <td>2699.958333</td>\n",
              "      <td>33667</td>\n",
              "      <td>73.2</td>\n",
              "      <td>1</td>\n",
              "      <td>0</td>\n",
              "      <td>0</td>\n",
              "      <td>0</td>\n",
              "      <td>0</td>\n",
              "      <td>1</td>\n",
              "      <td>0</td>\n",
              "      <td>0</td>\n",
              "      <td>0</td>\n",
              "      <td>0</td>\n",
              "    </tr>\n",
              "    <tr>\n",
              "      <th>4</th>\n",
              "      <td>1</td>\n",
              "      <td>0.1426</td>\n",
              "      <td>102.92</td>\n",
              "      <td>11.299732</td>\n",
              "      <td>14.97</td>\n",
              "      <td>667</td>\n",
              "      <td>4066.000000</td>\n",
              "      <td>4740</td>\n",
              "      <td>39.5</td>\n",
              "      <td>0</td>\n",
              "      <td>1</td>\n",
              "      <td>0</td>\n",
              "      <td>0</td>\n",
              "      <td>1</td>\n",
              "      <td>0</td>\n",
              "      <td>0</td>\n",
              "      <td>0</td>\n",
              "      <td>0</td>\n",
              "      <td>0</td>\n",
              "    </tr>\n",
              "  </tbody>\n",
              "</table>\n",
              "</div>"
            ],
            "text/plain": [
              "   credit.policy  int.rate  ...  purpose_major_purchase  purpose_small_business\n",
              "0              1    0.1189  ...                       0                       0\n",
              "1              1    0.1071  ...                       0                       0\n",
              "2              1    0.1357  ...                       0                       0\n",
              "3              1    0.1008  ...                       0                       0\n",
              "4              1    0.1426  ...                       0                       0\n",
              "\n",
              "[5 rows x 19 columns]"
            ]
          },
          "metadata": {
            "tags": []
          },
          "execution_count": 41
        }
      ]
    },
    {
      "cell_type": "code",
      "metadata": {
        "id": "sD5n5MrtRCOT",
        "outputId": "6215fc2b-a33d-405c-f0e0-2ddfec426fda",
        "colab": {
          "base_uri": "https://localhost:8080/",
          "height": 658
        }
      },
      "source": [
        "final_data.corr()"
      ],
      "execution_count": null,
      "outputs": [
        {
          "output_type": "execute_result",
          "data": {
            "text/html": [
              "<div>\n",
              "<style scoped>\n",
              "    .dataframe tbody tr th:only-of-type {\n",
              "        vertical-align: middle;\n",
              "    }\n",
              "\n",
              "    .dataframe tbody tr th {\n",
              "        vertical-align: top;\n",
              "    }\n",
              "\n",
              "    .dataframe thead th {\n",
              "        text-align: right;\n",
              "    }\n",
              "</style>\n",
              "<table border=\"1\" class=\"dataframe\">\n",
              "  <thead>\n",
              "    <tr style=\"text-align: right;\">\n",
              "      <th></th>\n",
              "      <th>credit.policy</th>\n",
              "      <th>int.rate</th>\n",
              "      <th>installment</th>\n",
              "      <th>log.annual.inc</th>\n",
              "      <th>dti</th>\n",
              "      <th>fico</th>\n",
              "      <th>days.with.cr.line</th>\n",
              "      <th>revol.bal</th>\n",
              "      <th>revol.util</th>\n",
              "      <th>inq.last.6mths</th>\n",
              "      <th>delinq.2yrs</th>\n",
              "      <th>pub.rec</th>\n",
              "      <th>not.fully.paid</th>\n",
              "      <th>purpose_credit_card</th>\n",
              "      <th>purpose_debt_consolidation</th>\n",
              "      <th>purpose_educational</th>\n",
              "      <th>purpose_home_improvement</th>\n",
              "      <th>purpose_major_purchase</th>\n",
              "      <th>purpose_small_business</th>\n",
              "    </tr>\n",
              "  </thead>\n",
              "  <tbody>\n",
              "    <tr>\n",
              "      <th>credit.policy</th>\n",
              "      <td>1.000000</td>\n",
              "      <td>-0.297823</td>\n",
              "      <td>0.051720</td>\n",
              "      <td>0.017306</td>\n",
              "      <td>-0.115743</td>\n",
              "      <td>0.381174</td>\n",
              "      <td>0.094415</td>\n",
              "      <td>-0.196850</td>\n",
              "      <td>-0.111472</td>\n",
              "      <td>-0.550498</td>\n",
              "      <td>-0.049842</td>\n",
              "      <td>-0.062145</td>\n",
              "      <td>-0.191957</td>\n",
              "      <td>0.011830</td>\n",
              "      <td>0.016604</td>\n",
              "      <td>-0.044384</td>\n",
              "      <td>0.007923</td>\n",
              "      <td>0.038807</td>\n",
              "      <td>-0.010269</td>\n",
              "    </tr>\n",
              "    <tr>\n",
              "      <th>int.rate</th>\n",
              "      <td>-0.297823</td>\n",
              "      <td>1.000000</td>\n",
              "      <td>0.276784</td>\n",
              "      <td>0.079726</td>\n",
              "      <td>0.212696</td>\n",
              "      <td>-0.682043</td>\n",
              "      <td>-0.105674</td>\n",
              "      <td>0.084220</td>\n",
              "      <td>0.425322</td>\n",
              "      <td>0.186856</td>\n",
              "      <td>0.140727</td>\n",
              "      <td>0.109875</td>\n",
              "      <td>0.214618</td>\n",
              "      <td>-0.043927</td>\n",
              "      <td>0.087384</td>\n",
              "      <td>-0.012696</td>\n",
              "      <td>-0.040770</td>\n",
              "      <td>-0.069206</td>\n",
              "      <td>0.179082</td>\n",
              "    </tr>\n",
              "    <tr>\n",
              "      <th>installment</th>\n",
              "      <td>0.051720</td>\n",
              "      <td>0.276784</td>\n",
              "      <td>1.000000</td>\n",
              "      <td>0.475839</td>\n",
              "      <td>0.025765</td>\n",
              "      <td>0.099373</td>\n",
              "      <td>0.173349</td>\n",
              "      <td>0.262401</td>\n",
              "      <td>0.056755</td>\n",
              "      <td>-0.023376</td>\n",
              "      <td>0.001067</td>\n",
              "      <td>-0.024805</td>\n",
              "      <td>0.054657</td>\n",
              "      <td>0.006334</td>\n",
              "      <td>0.108572</td>\n",
              "      <td>-0.089165</td>\n",
              "      <td>0.035369</td>\n",
              "      <td>-0.048940</td>\n",
              "      <td>0.189898</td>\n",
              "    </tr>\n",
              "    <tr>\n",
              "      <th>log.annual.inc</th>\n",
              "      <td>0.017306</td>\n",
              "      <td>0.079726</td>\n",
              "      <td>0.475839</td>\n",
              "      <td>1.000000</td>\n",
              "      <td>-0.029029</td>\n",
              "      <td>0.109645</td>\n",
              "      <td>0.339417</td>\n",
              "      <td>0.402420</td>\n",
              "      <td>0.071466</td>\n",
              "      <td>0.038108</td>\n",
              "      <td>0.012692</td>\n",
              "      <td>0.015813</td>\n",
              "      <td>-0.049353</td>\n",
              "      <td>0.080521</td>\n",
              "      <td>-0.040538</td>\n",
              "      <td>-0.124818</td>\n",
              "      <td>0.108532</td>\n",
              "      <td>-0.029034</td>\n",
              "      <td>0.129374</td>\n",
              "    </tr>\n",
              "    <tr>\n",
              "      <th>dti</th>\n",
              "      <td>-0.115743</td>\n",
              "      <td>0.212696</td>\n",
              "      <td>0.025765</td>\n",
              "      <td>-0.029029</td>\n",
              "      <td>1.000000</td>\n",
              "      <td>-0.230042</td>\n",
              "      <td>0.091284</td>\n",
              "      <td>0.180716</td>\n",
              "      <td>0.327835</td>\n",
              "      <td>0.038546</td>\n",
              "      <td>-0.043627</td>\n",
              "      <td>0.020912</td>\n",
              "      <td>0.047659</td>\n",
              "      <td>0.074282</td>\n",
              "      <td>0.180988</td>\n",
              "      <td>-0.038983</td>\n",
              "      <td>-0.096849</td>\n",
              "      <td>-0.081550</td>\n",
              "      <td>-0.072319</td>\n",
              "    </tr>\n",
              "    <tr>\n",
              "      <th>fico</th>\n",
              "      <td>0.381174</td>\n",
              "      <td>-0.682043</td>\n",
              "      <td>0.099373</td>\n",
              "      <td>0.109645</td>\n",
              "      <td>-0.230042</td>\n",
              "      <td>1.000000</td>\n",
              "      <td>0.257190</td>\n",
              "      <td>0.008128</td>\n",
              "      <td>-0.508692</td>\n",
              "      <td>-0.193631</td>\n",
              "      <td>-0.198609</td>\n",
              "      <td>-0.161679</td>\n",
              "      <td>-0.209924</td>\n",
              "      <td>-0.005327</td>\n",
              "      <td>-0.147663</td>\n",
              "      <td>-0.018454</td>\n",
              "      <td>0.093730</td>\n",
              "      <td>0.068743</td>\n",
              "      <td>0.071630</td>\n",
              "    </tr>\n",
              "    <tr>\n",
              "      <th>days.with.cr.line</th>\n",
              "      <td>0.094415</td>\n",
              "      <td>-0.105674</td>\n",
              "      <td>0.173349</td>\n",
              "      <td>0.339417</td>\n",
              "      <td>0.091284</td>\n",
              "      <td>0.257190</td>\n",
              "      <td>1.000000</td>\n",
              "      <td>0.263218</td>\n",
              "      <td>0.017606</td>\n",
              "      <td>-0.027085</td>\n",
              "      <td>0.072671</td>\n",
              "      <td>0.065443</td>\n",
              "      <td>-0.038185</td>\n",
              "      <td>0.060660</td>\n",
              "      <td>-0.012240</td>\n",
              "      <td>-0.050879</td>\n",
              "      <td>0.074358</td>\n",
              "      <td>-0.021521</td>\n",
              "      <td>0.040086</td>\n",
              "    </tr>\n",
              "    <tr>\n",
              "      <th>revol.bal</th>\n",
              "      <td>-0.196850</td>\n",
              "      <td>0.084220</td>\n",
              "      <td>0.262401</td>\n",
              "      <td>0.402420</td>\n",
              "      <td>0.180716</td>\n",
              "      <td>0.008128</td>\n",
              "      <td>0.263218</td>\n",
              "      <td>1.000000</td>\n",
              "      <td>0.182388</td>\n",
              "      <td>0.032254</td>\n",
              "      <td>-0.036166</td>\n",
              "      <td>-0.038701</td>\n",
              "      <td>0.061865</td>\n",
              "      <td>0.062449</td>\n",
              "      <td>-0.010192</td>\n",
              "      <td>-0.033710</td>\n",
              "      <td>-0.009100</td>\n",
              "      <td>-0.058115</td>\n",
              "      <td>0.100754</td>\n",
              "    </tr>\n",
              "    <tr>\n",
              "      <th>revol.util</th>\n",
              "      <td>-0.111472</td>\n",
              "      <td>0.425322</td>\n",
              "      <td>0.056755</td>\n",
              "      <td>0.071466</td>\n",
              "      <td>0.327835</td>\n",
              "      <td>-0.508692</td>\n",
              "      <td>0.017606</td>\n",
              "      <td>0.182388</td>\n",
              "      <td>1.000000</td>\n",
              "      <td>-0.024732</td>\n",
              "      <td>-0.052280</td>\n",
              "      <td>0.083530</td>\n",
              "      <td>0.111527</td>\n",
              "      <td>0.093349</td>\n",
              "      <td>0.193018</td>\n",
              "      <td>-0.063756</td>\n",
              "      <td>-0.112292</td>\n",
              "      <td>-0.114816</td>\n",
              "      <td>-0.058217</td>\n",
              "    </tr>\n",
              "    <tr>\n",
              "      <th>inq.last.6mths</th>\n",
              "      <td>-0.550498</td>\n",
              "      <td>0.186856</td>\n",
              "      <td>-0.023376</td>\n",
              "      <td>0.038108</td>\n",
              "      <td>0.038546</td>\n",
              "      <td>-0.193631</td>\n",
              "      <td>-0.027085</td>\n",
              "      <td>0.032254</td>\n",
              "      <td>-0.024732</td>\n",
              "      <td>1.000000</td>\n",
              "      <td>0.010637</td>\n",
              "      <td>0.100161</td>\n",
              "      <td>0.176185</td>\n",
              "      <td>-0.043535</td>\n",
              "      <td>-0.053166</td>\n",
              "      <td>0.043586</td>\n",
              "      <td>0.050534</td>\n",
              "      <td>0.001085</td>\n",
              "      <td>0.037138</td>\n",
              "    </tr>\n",
              "    <tr>\n",
              "      <th>delinq.2yrs</th>\n",
              "      <td>-0.049842</td>\n",
              "      <td>0.140727</td>\n",
              "      <td>0.001067</td>\n",
              "      <td>0.012692</td>\n",
              "      <td>-0.043627</td>\n",
              "      <td>-0.198609</td>\n",
              "      <td>0.072671</td>\n",
              "      <td>-0.036166</td>\n",
              "      <td>-0.052280</td>\n",
              "      <td>0.010637</td>\n",
              "      <td>1.000000</td>\n",
              "      <td>-0.019618</td>\n",
              "      <td>0.018838</td>\n",
              "      <td>-0.005731</td>\n",
              "      <td>-0.025622</td>\n",
              "      <td>0.000335</td>\n",
              "      <td>-0.019792</td>\n",
              "      <td>0.016299</td>\n",
              "      <td>0.020961</td>\n",
              "    </tr>\n",
              "    <tr>\n",
              "      <th>pub.rec</th>\n",
              "      <td>-0.062145</td>\n",
              "      <td>0.109875</td>\n",
              "      <td>-0.024805</td>\n",
              "      <td>0.015813</td>\n",
              "      <td>0.020912</td>\n",
              "      <td>-0.161679</td>\n",
              "      <td>0.065443</td>\n",
              "      <td>-0.038701</td>\n",
              "      <td>0.083530</td>\n",
              "      <td>0.100161</td>\n",
              "      <td>-0.019618</td>\n",
              "      <td>1.000000</td>\n",
              "      <td>0.069449</td>\n",
              "      <td>0.032821</td>\n",
              "      <td>0.041865</td>\n",
              "      <td>-0.016984</td>\n",
              "      <td>0.014983</td>\n",
              "      <td>-0.026522</td>\n",
              "      <td>-0.012678</td>\n",
              "    </tr>\n",
              "    <tr>\n",
              "      <th>not.fully.paid</th>\n",
              "      <td>-0.191957</td>\n",
              "      <td>0.214618</td>\n",
              "      <td>0.054657</td>\n",
              "      <td>-0.049353</td>\n",
              "      <td>0.047659</td>\n",
              "      <td>-0.209924</td>\n",
              "      <td>-0.038185</td>\n",
              "      <td>0.061865</td>\n",
              "      <td>0.111527</td>\n",
              "      <td>0.176185</td>\n",
              "      <td>0.018838</td>\n",
              "      <td>0.069449</td>\n",
              "      <td>1.000000</td>\n",
              "      <td>-0.060638</td>\n",
              "      <td>-0.020242</td>\n",
              "      <td>0.035096</td>\n",
              "      <td>0.003760</td>\n",
              "      <td>-0.039428</td>\n",
              "      <td>0.100320</td>\n",
              "    </tr>\n",
              "    <tr>\n",
              "      <th>purpose_credit_card</th>\n",
              "      <td>0.011830</td>\n",
              "      <td>-0.043927</td>\n",
              "      <td>0.006334</td>\n",
              "      <td>0.080521</td>\n",
              "      <td>0.074282</td>\n",
              "      <td>-0.005327</td>\n",
              "      <td>0.060660</td>\n",
              "      <td>0.062449</td>\n",
              "      <td>0.093349</td>\n",
              "      <td>-0.043535</td>\n",
              "      <td>-0.005731</td>\n",
              "      <td>0.032821</td>\n",
              "      <td>-0.060638</td>\n",
              "      <td>1.000000</td>\n",
              "      <td>-0.304569</td>\n",
              "      <td>-0.076040</td>\n",
              "      <td>-0.097590</td>\n",
              "      <td>-0.075497</td>\n",
              "      <td>-0.110817</td>\n",
              "    </tr>\n",
              "    <tr>\n",
              "      <th>purpose_debt_consolidation</th>\n",
              "      <td>0.016604</td>\n",
              "      <td>0.087384</td>\n",
              "      <td>0.108572</td>\n",
              "      <td>-0.040538</td>\n",
              "      <td>0.180988</td>\n",
              "      <td>-0.147663</td>\n",
              "      <td>-0.012240</td>\n",
              "      <td>-0.010192</td>\n",
              "      <td>0.193018</td>\n",
              "      <td>-0.053166</td>\n",
              "      <td>-0.025622</td>\n",
              "      <td>0.041865</td>\n",
              "      <td>-0.020242</td>\n",
              "      <td>-0.304569</td>\n",
              "      <td>1.000000</td>\n",
              "      <td>-0.171326</td>\n",
              "      <td>-0.219881</td>\n",
              "      <td>-0.170104</td>\n",
              "      <td>-0.249684</td>\n",
              "    </tr>\n",
              "    <tr>\n",
              "      <th>purpose_educational</th>\n",
              "      <td>-0.044384</td>\n",
              "      <td>-0.012696</td>\n",
              "      <td>-0.089165</td>\n",
              "      <td>-0.124818</td>\n",
              "      <td>-0.038983</td>\n",
              "      <td>-0.018454</td>\n",
              "      <td>-0.050879</td>\n",
              "      <td>-0.033710</td>\n",
              "      <td>-0.063756</td>\n",
              "      <td>0.043586</td>\n",
              "      <td>0.000335</td>\n",
              "      <td>-0.016984</td>\n",
              "      <td>0.035096</td>\n",
              "      <td>-0.076040</td>\n",
              "      <td>-0.171326</td>\n",
              "      <td>1.000000</td>\n",
              "      <td>-0.054896</td>\n",
              "      <td>-0.042469</td>\n",
              "      <td>-0.062337</td>\n",
              "    </tr>\n",
              "    <tr>\n",
              "      <th>purpose_home_improvement</th>\n",
              "      <td>0.007923</td>\n",
              "      <td>-0.040770</td>\n",
              "      <td>0.035369</td>\n",
              "      <td>0.108532</td>\n",
              "      <td>-0.096849</td>\n",
              "      <td>0.093730</td>\n",
              "      <td>0.074358</td>\n",
              "      <td>-0.009100</td>\n",
              "      <td>-0.112292</td>\n",
              "      <td>0.050534</td>\n",
              "      <td>-0.019792</td>\n",
              "      <td>0.014983</td>\n",
              "      <td>0.003760</td>\n",
              "      <td>-0.097590</td>\n",
              "      <td>-0.219881</td>\n",
              "      <td>-0.054896</td>\n",
              "      <td>1.000000</td>\n",
              "      <td>-0.054505</td>\n",
              "      <td>-0.080004</td>\n",
              "    </tr>\n",
              "    <tr>\n",
              "      <th>purpose_major_purchase</th>\n",
              "      <td>0.038807</td>\n",
              "      <td>-0.069206</td>\n",
              "      <td>-0.048940</td>\n",
              "      <td>-0.029034</td>\n",
              "      <td>-0.081550</td>\n",
              "      <td>0.068743</td>\n",
              "      <td>-0.021521</td>\n",
              "      <td>-0.058115</td>\n",
              "      <td>-0.114816</td>\n",
              "      <td>0.001085</td>\n",
              "      <td>0.016299</td>\n",
              "      <td>-0.026522</td>\n",
              "      <td>-0.039428</td>\n",
              "      <td>-0.075497</td>\n",
              "      <td>-0.170104</td>\n",
              "      <td>-0.042469</td>\n",
              "      <td>-0.054505</td>\n",
              "      <td>1.000000</td>\n",
              "      <td>-0.061892</td>\n",
              "    </tr>\n",
              "    <tr>\n",
              "      <th>purpose_small_business</th>\n",
              "      <td>-0.010269</td>\n",
              "      <td>0.179082</td>\n",
              "      <td>0.189898</td>\n",
              "      <td>0.129374</td>\n",
              "      <td>-0.072319</td>\n",
              "      <td>0.071630</td>\n",
              "      <td>0.040086</td>\n",
              "      <td>0.100754</td>\n",
              "      <td>-0.058217</td>\n",
              "      <td>0.037138</td>\n",
              "      <td>0.020961</td>\n",
              "      <td>-0.012678</td>\n",
              "      <td>0.100320</td>\n",
              "      <td>-0.110817</td>\n",
              "      <td>-0.249684</td>\n",
              "      <td>-0.062337</td>\n",
              "      <td>-0.080004</td>\n",
              "      <td>-0.061892</td>\n",
              "      <td>1.000000</td>\n",
              "    </tr>\n",
              "  </tbody>\n",
              "</table>\n",
              "</div>"
            ],
            "text/plain": [
              "                            credit.policy  ...  purpose_small_business\n",
              "credit.policy                    1.000000  ...               -0.010269\n",
              "int.rate                        -0.297823  ...                0.179082\n",
              "installment                      0.051720  ...                0.189898\n",
              "log.annual.inc                   0.017306  ...                0.129374\n",
              "dti                             -0.115743  ...               -0.072319\n",
              "fico                             0.381174  ...                0.071630\n",
              "days.with.cr.line                0.094415  ...                0.040086\n",
              "revol.bal                       -0.196850  ...                0.100754\n",
              "revol.util                      -0.111472  ...               -0.058217\n",
              "inq.last.6mths                  -0.550498  ...                0.037138\n",
              "delinq.2yrs                     -0.049842  ...                0.020961\n",
              "pub.rec                         -0.062145  ...               -0.012678\n",
              "not.fully.paid                  -0.191957  ...                0.100320\n",
              "purpose_credit_card              0.011830  ...               -0.110817\n",
              "purpose_debt_consolidation       0.016604  ...               -0.249684\n",
              "purpose_educational             -0.044384  ...               -0.062337\n",
              "purpose_home_improvement         0.007923  ...               -0.080004\n",
              "purpose_major_purchase           0.038807  ...               -0.061892\n",
              "purpose_small_business          -0.010269  ...                1.000000\n",
              "\n",
              "[19 rows x 19 columns]"
            ]
          },
          "metadata": {
            "tags": []
          },
          "execution_count": 55
        }
      ]
    },
    {
      "cell_type": "code",
      "metadata": {
        "id": "9M4Us5huRPJm",
        "outputId": "07b955a8-95be-4c0d-ee5f-54c91d0a6484",
        "colab": {
          "base_uri": "https://localhost:8080/",
          "height": 856
        }
      },
      "source": [
        "plt.figure(\n",
        "        figsize=[16,12]\n",
        ")\n",
        "\n",
        "sns.heatmap(\n",
        "        data=final_data.corr(), \n",
        "        cmap='viridis', \n",
        "        annot=False, \n",
        "        fmt='.2g'\n",
        ")"
      ],
      "execution_count": null,
      "outputs": [
        {
          "output_type": "execute_result",
          "data": {
            "text/plain": [
              "<matplotlib.axes._subplots.AxesSubplot at 0x7fe3b94b18d0>"
            ]
          },
          "metadata": {
            "tags": []
          },
          "execution_count": 56
        },
        {
          "output_type": "display_data",
          "data": {
            "image/png": "[encoded data removed]",
            "text/plain": [
              "<Figure size 1152x864 with 2 Axes>"
            ]
          },
          "metadata": {
            "tags": []
          }
        }
      ]
    },
    {
      "cell_type": "code",
      "metadata": {
        "id": "rQ9h8I8mS79h"
      },
      "source": [
        "to_drop2 = ['revol.bal', 'days.with.cr.line', 'installment', 'revol.bal']\n",
        "\n",
        "final_data.drop(to_drop2, axis=1, inplace=True)\n",
        "#We only focus on the grids of yellow or very light green. After comparing with the feature description again,  revol.bal,day.with.cr.line,installment can repsent by annual income. revol.util can repsent by int.rate,  "
      ],
      "execution_count": null,
      "outputs": []
    },
    {
      "cell_type": "code",
      "metadata": {
        "id": "r1Fsv5hdUcru",
        "outputId": "2b154cea-86f9-4232-ecf2-8471ba8fff0e",
        "colab": {
          "base_uri": "https://localhost:8080/"
        }
      },
      "source": [
        "final_data.isnull().mean()"
      ],
      "execution_count": null,
      "outputs": [
        {
          "output_type": "execute_result",
          "data": {
            "text/plain": [
              "credit.policy                 0.0\n",
              "int.rate                      0.0\n",
              "log.annual.inc                0.0\n",
              "dti                           0.0\n",
              "fico                          0.0\n",
              "revol.util                    0.0\n",
              "inq.last.6mths                0.0\n",
              "delinq.2yrs                   0.0\n",
              "pub.rec                       0.0\n",
              "not.fully.paid                0.0\n",
              "purpose_credit_card           0.0\n",
              "purpose_debt_consolidation    0.0\n",
              "purpose_educational           0.0\n",
              "purpose_home_improvement      0.0\n",
              "purpose_major_purchase        0.0\n",
              "purpose_small_business        0.0\n",
              "dtype: float64"
            ]
          },
          "metadata": {
            "tags": []
          },
          "execution_count": 59
        }
      ]
    },
    {
      "cell_type": "code",
      "metadata": {
        "id": "QwMjwOllR7bD"
      },
      "source": [
        "#to_train = df1[df1['not.fully.paid'].isin([0,1])]\n",
        "#to_pred = df1[df1['not.fully.paid'] == 2]\n",
        "\n",
        "to_train = final_data[final_data['not.fully.paid'].isin([0,1])]\n",
        "to_pred = final_data[final_data['not.fully.paid'] == 2]"
      ],
      "execution_count": null,
      "outputs": []
    },
    {
      "cell_type": "code",
      "metadata": {
        "id": "Shvcnp4QSAun"
      },
      "source": [
        "X = to_train.drop('not.fully.paid', axis=1).values\n",
        "y = to_train['not.fully.paid'].values\n",
        "\n",
        "X_train, X_test, y_train, y_test = train_test_split(X, y, test_size=0.3, random_state = 101)"
      ],
      "execution_count": null,
      "outputs": []
    },
    {
      "cell_type": "code",
      "metadata": {
        "id": "AVBCNBHfSME-"
      },
      "source": [
        "scaler = MinMaxScaler()\n",
        "X_train = scaler.fit_transform(X_train)\n",
        "X_test = scaler.transform(X_test)"
      ],
      "execution_count": null,
      "outputs": []
    },
    {
      "cell_type": "code",
      "metadata": {
        "id": "OaAie2jcSOrm",
        "outputId": "4a7d474d-c553-4ff1-c53a-78df777c922a",
        "colab": {
          "base_uri": "https://localhost:8080/"
        }
      },
      "source": [
        "X_train.shape"
      ],
      "execution_count": null,
      "outputs": [
        {
          "output_type": "execute_result",
          "data": {
            "text/plain": [
              "(11263, 15)"
            ]
          },
          "metadata": {
            "tags": []
          },
          "execution_count": 63
        }
      ]
    },
    {
      "cell_type": "code",
      "metadata": {
        "id": "ZcG7_NsgVFfg"
      },
      "source": [
        "model = Sequential()\n",
        "\n",
        "model.add(\n",
        "        Dense(94, activation='relu')\n",
        ")\n",
        "\n",
        "model.add(\n",
        "        Dense(30, activation='relu')\n",
        ")\n",
        "\n",
        "model.add(\n",
        "        Dense(15, activation='relu')\n",
        ")\n",
        "\n",
        "\n",
        "model.add(\n",
        "        Dense(1, activation='sigmoid')\n",
        ")\n",
        "\n",
        "model.compile(\n",
        "        optimizer='adam', \n",
        "        loss='binary_crossentropy', \n",
        "        metrics=['accuracy']\n",
        ")"
      ],
      "execution_count": null,
      "outputs": []
    },
    {
      "cell_type": "code",
      "metadata": {
        "id": "AgBZ2hUkVKyl",
        "outputId": "ed7a9ec8-0cff-47eb-cc58-8522559188cb",
        "colab": {
          "base_uri": "https://localhost:8080/"
        }
      },
      "source": [
        "early_stop = EarlyStopping(\n",
        "        monitor='val_loss', \n",
        "        mode='min', \n",
        "        verbose=1, \n",
        "        patience=25\n",
        ")\n",
        "\n",
        "model.fit(\n",
        "        X_train, \n",
        "        y_train, \n",
        "        epochs=200, \n",
        "        batch_size=256, \n",
        "        validation_data=(X_test, y_test),\n",
        "         callbacks=[early_stop]\n",
        ")"
      ],
      "execution_count": null,
      "outputs": [
        {
          "output_type": "stream",
          "text": [
            "Epoch 1/200\n",
            "44/44 [==============================] - 0s 5ms/step - loss: 0.6713 - accuracy: 0.6018 - val_loss: 0.6586 - val_accuracy: 0.6041\n",
            "Epoch 2/200\n",
            "44/44 [==============================] - 0s 3ms/step - loss: 0.6496 - accuracy: 0.6140 - val_loss: 0.6552 - val_accuracy: 0.6043\n",
            "Epoch 3/200\n",
            "44/44 [==============================] - 0s 3ms/step - loss: 0.6447 - accuracy: 0.6217 - val_loss: 0.6557 - val_accuracy: 0.6140\n",
            "Epoch 4/200\n",
            "44/44 [==============================] - 0s 3ms/step - loss: 0.6430 - accuracy: 0.6213 - val_loss: 0.6515 - val_accuracy: 0.6093\n",
            "Epoch 5/200\n",
            "44/44 [==============================] - 0s 3ms/step - loss: 0.6408 - accuracy: 0.6238 - val_loss: 0.6510 - val_accuracy: 0.6147\n",
            "Epoch 6/200\n",
            "44/44 [==============================] - 0s 3ms/step - loss: 0.6393 - accuracy: 0.6225 - val_loss: 0.6489 - val_accuracy: 0.6140\n",
            "Epoch 7/200\n",
            "44/44 [==============================] - 0s 3ms/step - loss: 0.6375 - accuracy: 0.6276 - val_loss: 0.6484 - val_accuracy: 0.6190\n",
            "Epoch 8/200\n",
            "44/44 [==============================] - 0s 3ms/step - loss: 0.6371 - accuracy: 0.6264 - val_loss: 0.6477 - val_accuracy: 0.6172\n",
            "Epoch 9/200\n",
            "44/44 [==============================] - 0s 3ms/step - loss: 0.6355 - accuracy: 0.6317 - val_loss: 0.6464 - val_accuracy: 0.6176\n",
            "Epoch 10/200\n",
            "44/44 [==============================] - 0s 3ms/step - loss: 0.6351 - accuracy: 0.6298 - val_loss: 0.6484 - val_accuracy: 0.6031\n",
            "Epoch 11/200\n",
            "44/44 [==============================] - 0s 3ms/step - loss: 0.6335 - accuracy: 0.6315 - val_loss: 0.6461 - val_accuracy: 0.6192\n",
            "Epoch 12/200\n",
            "44/44 [==============================] - 0s 3ms/step - loss: 0.6334 - accuracy: 0.6314 - val_loss: 0.6507 - val_accuracy: 0.6155\n",
            "Epoch 13/200\n",
            "44/44 [==============================] - 0s 3ms/step - loss: 0.6322 - accuracy: 0.6303 - val_loss: 0.6429 - val_accuracy: 0.6227\n",
            "Epoch 14/200\n",
            "44/44 [==============================] - 0s 3ms/step - loss: 0.6296 - accuracy: 0.6327 - val_loss: 0.6413 - val_accuracy: 0.6184\n",
            "Epoch 15/200\n",
            "44/44 [==============================] - 0s 3ms/step - loss: 0.6293 - accuracy: 0.6323 - val_loss: 0.6469 - val_accuracy: 0.6111\n",
            "Epoch 16/200\n",
            "44/44 [==============================] - 0s 3ms/step - loss: 0.6293 - accuracy: 0.6320 - val_loss: 0.6432 - val_accuracy: 0.6254\n",
            "Epoch 17/200\n",
            "44/44 [==============================] - 0s 3ms/step - loss: 0.6264 - accuracy: 0.6385 - val_loss: 0.6458 - val_accuracy: 0.6107\n",
            "Epoch 18/200\n",
            "44/44 [==============================] - 0s 3ms/step - loss: 0.6256 - accuracy: 0.6371 - val_loss: 0.6447 - val_accuracy: 0.6232\n",
            "Epoch 19/200\n",
            "44/44 [==============================] - 0s 3ms/step - loss: 0.6248 - accuracy: 0.6380 - val_loss: 0.6376 - val_accuracy: 0.6273\n",
            "Epoch 20/200\n",
            "44/44 [==============================] - 0s 3ms/step - loss: 0.6227 - accuracy: 0.6417 - val_loss: 0.6389 - val_accuracy: 0.6244\n",
            "Epoch 21/200\n",
            "44/44 [==============================] - 0s 3ms/step - loss: 0.6230 - accuracy: 0.6433 - val_loss: 0.6371 - val_accuracy: 0.6298\n",
            "Epoch 22/200\n",
            "44/44 [==============================] - 0s 3ms/step - loss: 0.6218 - accuracy: 0.6401 - val_loss: 0.6439 - val_accuracy: 0.6172\n",
            "Epoch 23/200\n",
            "44/44 [==============================] - 0s 2ms/step - loss: 0.6220 - accuracy: 0.6395 - val_loss: 0.6350 - val_accuracy: 0.6317\n",
            "Epoch 24/200\n",
            "44/44 [==============================] - 0s 3ms/step - loss: 0.6176 - accuracy: 0.6487 - val_loss: 0.6362 - val_accuracy: 0.6333\n",
            "Epoch 25/200\n",
            "44/44 [==============================] - 0s 3ms/step - loss: 0.6166 - accuracy: 0.6474 - val_loss: 0.6379 - val_accuracy: 0.6225\n",
            "Epoch 26/200\n",
            "44/44 [==============================] - 0s 3ms/step - loss: 0.6152 - accuracy: 0.6466 - val_loss: 0.6346 - val_accuracy: 0.6341\n",
            "Epoch 27/200\n",
            "44/44 [==============================] - 0s 2ms/step - loss: 0.6138 - accuracy: 0.6465 - val_loss: 0.6327 - val_accuracy: 0.6314\n",
            "Epoch 28/200\n",
            "44/44 [==============================] - 0s 2ms/step - loss: 0.6126 - accuracy: 0.6483 - val_loss: 0.6315 - val_accuracy: 0.6358\n",
            "Epoch 29/200\n",
            "44/44 [==============================] - 0s 3ms/step - loss: 0.6132 - accuracy: 0.6506 - val_loss: 0.6308 - val_accuracy: 0.6352\n",
            "Epoch 30/200\n",
            "44/44 [==============================] - 0s 3ms/step - loss: 0.6100 - accuracy: 0.6513 - val_loss: 0.6312 - val_accuracy: 0.6312\n",
            "Epoch 31/200\n",
            "44/44 [==============================] - 0s 2ms/step - loss: 0.6093 - accuracy: 0.6514 - val_loss: 0.6303 - val_accuracy: 0.6335\n",
            "Epoch 32/200\n",
            "44/44 [==============================] - 0s 3ms/step - loss: 0.6077 - accuracy: 0.6553 - val_loss: 0.6309 - val_accuracy: 0.6410\n",
            "Epoch 33/200\n",
            "44/44 [==============================] - 0s 3ms/step - loss: 0.6059 - accuracy: 0.6536 - val_loss: 0.6276 - val_accuracy: 0.6418\n",
            "Epoch 34/200\n",
            "44/44 [==============================] - 0s 3ms/step - loss: 0.6033 - accuracy: 0.6564 - val_loss: 0.6297 - val_accuracy: 0.6401\n",
            "Epoch 35/200\n",
            "44/44 [==============================] - 0s 3ms/step - loss: 0.6035 - accuracy: 0.6566 - val_loss: 0.6296 - val_accuracy: 0.6397\n",
            "Epoch 36/200\n",
            "44/44 [==============================] - 0s 3ms/step - loss: 0.6023 - accuracy: 0.6623 - val_loss: 0.6251 - val_accuracy: 0.6414\n",
            "Epoch 37/200\n",
            "44/44 [==============================] - 0s 3ms/step - loss: 0.6003 - accuracy: 0.6640 - val_loss: 0.6257 - val_accuracy: 0.6350\n",
            "Epoch 38/200\n",
            "44/44 [==============================] - 0s 2ms/step - loss: 0.6000 - accuracy: 0.6616 - val_loss: 0.6260 - val_accuracy: 0.6484\n",
            "Epoch 39/200\n",
            "44/44 [==============================] - 0s 3ms/step - loss: 0.5967 - accuracy: 0.6660 - val_loss: 0.6252 - val_accuracy: 0.6437\n",
            "Epoch 40/200\n",
            "44/44 [==============================] - 0s 2ms/step - loss: 0.5946 - accuracy: 0.6643 - val_loss: 0.6222 - val_accuracy: 0.6451\n",
            "Epoch 41/200\n",
            "44/44 [==============================] - 0s 2ms/step - loss: 0.5952 - accuracy: 0.6641 - val_loss: 0.6222 - val_accuracy: 0.6513\n",
            "Epoch 42/200\n",
            "44/44 [==============================] - 0s 3ms/step - loss: 0.5932 - accuracy: 0.6669 - val_loss: 0.6219 - val_accuracy: 0.6470\n",
            "Epoch 43/200\n",
            "44/44 [==============================] - 0s 2ms/step - loss: 0.5927 - accuracy: 0.6659 - val_loss: 0.6212 - val_accuracy: 0.6493\n",
            "Epoch 44/200\n",
            "44/44 [==============================] - 0s 3ms/step - loss: 0.5935 - accuracy: 0.6672 - val_loss: 0.6204 - val_accuracy: 0.6459\n",
            "Epoch 45/200\n",
            "44/44 [==============================] - 0s 2ms/step - loss: 0.5891 - accuracy: 0.6684 - val_loss: 0.6204 - val_accuracy: 0.6412\n",
            "Epoch 46/200\n",
            "44/44 [==============================] - 0s 3ms/step - loss: 0.5878 - accuracy: 0.6731 - val_loss: 0.6190 - val_accuracy: 0.6497\n",
            "Epoch 47/200\n",
            "44/44 [==============================] - 0s 2ms/step - loss: 0.5857 - accuracy: 0.6684 - val_loss: 0.6189 - val_accuracy: 0.6464\n",
            "Epoch 48/200\n",
            "44/44 [==============================] - 0s 2ms/step - loss: 0.5849 - accuracy: 0.6730 - val_loss: 0.6181 - val_accuracy: 0.6495\n",
            "Epoch 49/200\n",
            "44/44 [==============================] - 0s 3ms/step - loss: 0.5876 - accuracy: 0.6726 - val_loss: 0.6249 - val_accuracy: 0.6387\n",
            "Epoch 50/200\n",
            "44/44 [==============================] - 0s 2ms/step - loss: 0.5825 - accuracy: 0.6741 - val_loss: 0.6182 - val_accuracy: 0.6549\n",
            "Epoch 51/200\n",
            "44/44 [==============================] - 0s 3ms/step - loss: 0.5841 - accuracy: 0.6761 - val_loss: 0.6154 - val_accuracy: 0.6598\n",
            "Epoch 52/200\n",
            "44/44 [==============================] - 0s 2ms/step - loss: 0.5808 - accuracy: 0.6766 - val_loss: 0.6170 - val_accuracy: 0.6484\n",
            "Epoch 53/200\n",
            "44/44 [==============================] - 0s 2ms/step - loss: 0.5804 - accuracy: 0.6804 - val_loss: 0.6155 - val_accuracy: 0.6534\n",
            "Epoch 54/200\n",
            "44/44 [==============================] - 0s 3ms/step - loss: 0.5766 - accuracy: 0.6829 - val_loss: 0.6166 - val_accuracy: 0.6549\n",
            "Epoch 55/200\n",
            "44/44 [==============================] - 0s 2ms/step - loss: 0.5771 - accuracy: 0.6845 - val_loss: 0.6148 - val_accuracy: 0.6565\n",
            "Epoch 56/200\n",
            "44/44 [==============================] - 0s 3ms/step - loss: 0.5750 - accuracy: 0.6862 - val_loss: 0.6138 - val_accuracy: 0.6588\n",
            "Epoch 57/200\n",
            "44/44 [==============================] - 0s 3ms/step - loss: 0.5743 - accuracy: 0.6880 - val_loss: 0.6122 - val_accuracy: 0.6590\n",
            "Epoch 58/200\n",
            "44/44 [==============================] - 0s 2ms/step - loss: 0.5721 - accuracy: 0.6907 - val_loss: 0.6141 - val_accuracy: 0.6588\n",
            "Epoch 59/200\n",
            "44/44 [==============================] - 0s 2ms/step - loss: 0.5741 - accuracy: 0.6843 - val_loss: 0.6165 - val_accuracy: 0.6617\n",
            "Epoch 60/200\n",
            "44/44 [==============================] - 0s 2ms/step - loss: 0.5723 - accuracy: 0.6891 - val_loss: 0.6251 - val_accuracy: 0.6464\n",
            "Epoch 61/200\n",
            "44/44 [==============================] - 0s 3ms/step - loss: 0.5706 - accuracy: 0.6900 - val_loss: 0.6141 - val_accuracy: 0.6642\n",
            "Epoch 62/200\n",
            "44/44 [==============================] - 0s 3ms/step - loss: 0.5685 - accuracy: 0.6899 - val_loss: 0.6193 - val_accuracy: 0.6491\n",
            "Epoch 63/200\n",
            "44/44 [==============================] - 0s 3ms/step - loss: 0.5686 - accuracy: 0.6916 - val_loss: 0.6137 - val_accuracy: 0.6663\n",
            "Epoch 64/200\n",
            "44/44 [==============================] - 0s 4ms/step - loss: 0.5674 - accuracy: 0.6902 - val_loss: 0.6094 - val_accuracy: 0.6555\n",
            "Epoch 65/200\n",
            "44/44 [==============================] - 0s 3ms/step - loss: 0.5668 - accuracy: 0.6907 - val_loss: 0.6132 - val_accuracy: 0.6586\n",
            "Epoch 66/200\n",
            "44/44 [==============================] - 0s 3ms/step - loss: 0.5666 - accuracy: 0.6927 - val_loss: 0.6103 - val_accuracy: 0.6683\n",
            "Epoch 67/200\n",
            "44/44 [==============================] - 0s 3ms/step - loss: 0.5634 - accuracy: 0.6973 - val_loss: 0.6124 - val_accuracy: 0.6638\n",
            "Epoch 68/200\n",
            "44/44 [==============================] - 0s 3ms/step - loss: 0.5649 - accuracy: 0.6961 - val_loss: 0.6167 - val_accuracy: 0.6582\n",
            "Epoch 69/200\n",
            "44/44 [==============================] - 0s 3ms/step - loss: 0.5656 - accuracy: 0.6938 - val_loss: 0.6137 - val_accuracy: 0.6598\n",
            "Epoch 70/200\n",
            "44/44 [==============================] - 0s 3ms/step - loss: 0.5636 - accuracy: 0.6954 - val_loss: 0.6142 - val_accuracy: 0.6520\n",
            "Epoch 71/200\n",
            "44/44 [==============================] - 0s 3ms/step - loss: 0.5613 - accuracy: 0.6964 - val_loss: 0.6090 - val_accuracy: 0.6605\n",
            "Epoch 72/200\n",
            "44/44 [==============================] - 0s 3ms/step - loss: 0.5623 - accuracy: 0.6979 - val_loss: 0.6079 - val_accuracy: 0.6613\n",
            "Epoch 73/200\n",
            "44/44 [==============================] - 0s 2ms/step - loss: 0.5620 - accuracy: 0.7011 - val_loss: 0.6110 - val_accuracy: 0.6629\n",
            "Epoch 74/200\n",
            "44/44 [==============================] - 0s 3ms/step - loss: 0.5591 - accuracy: 0.6971 - val_loss: 0.6114 - val_accuracy: 0.6669\n",
            "Epoch 75/200\n",
            "44/44 [==============================] - 0s 2ms/step - loss: 0.5563 - accuracy: 0.6998 - val_loss: 0.6081 - val_accuracy: 0.6652\n",
            "Epoch 76/200\n",
            "44/44 [==============================] - 0s 3ms/step - loss: 0.5572 - accuracy: 0.6997 - val_loss: 0.6114 - val_accuracy: 0.6692\n",
            "Epoch 77/200\n",
            "44/44 [==============================] - 0s 3ms/step - loss: 0.5564 - accuracy: 0.7005 - val_loss: 0.6132 - val_accuracy: 0.6648\n",
            "Epoch 78/200\n",
            "44/44 [==============================] - 0s 3ms/step - loss: 0.5539 - accuracy: 0.7076 - val_loss: 0.6075 - val_accuracy: 0.6700\n",
            "Epoch 79/200\n",
            "44/44 [==============================] - 0s 3ms/step - loss: 0.5552 - accuracy: 0.7027 - val_loss: 0.6103 - val_accuracy: 0.6598\n",
            "Epoch 80/200\n",
            "44/44 [==============================] - 0s 3ms/step - loss: 0.5565 - accuracy: 0.7002 - val_loss: 0.6046 - val_accuracy: 0.6648\n",
            "Epoch 81/200\n",
            "44/44 [==============================] - 0s 3ms/step - loss: 0.5527 - accuracy: 0.7047 - val_loss: 0.6084 - val_accuracy: 0.6673\n",
            "Epoch 82/200\n",
            "44/44 [==============================] - 0s 3ms/step - loss: 0.5495 - accuracy: 0.7090 - val_loss: 0.6106 - val_accuracy: 0.6731\n",
            "Epoch 83/200\n",
            "44/44 [==============================] - 0s 3ms/step - loss: 0.5533 - accuracy: 0.7037 - val_loss: 0.6095 - val_accuracy: 0.6607\n",
            "Epoch 84/200\n",
            "44/44 [==============================] - 0s 3ms/step - loss: 0.5511 - accuracy: 0.7023 - val_loss: 0.6089 - val_accuracy: 0.6741\n",
            "Epoch 85/200\n",
            "44/44 [==============================] - 0s 3ms/step - loss: 0.5507 - accuracy: 0.7084 - val_loss: 0.6048 - val_accuracy: 0.6681\n",
            "Epoch 86/200\n",
            "44/44 [==============================] - 0s 3ms/step - loss: 0.5504 - accuracy: 0.7034 - val_loss: 0.6076 - val_accuracy: 0.6712\n",
            "Epoch 87/200\n",
            "44/44 [==============================] - 0s 3ms/step - loss: 0.5451 - accuracy: 0.7114 - val_loss: 0.6079 - val_accuracy: 0.6650\n",
            "Epoch 88/200\n",
            "44/44 [==============================] - 0s 3ms/step - loss: 0.5455 - accuracy: 0.7116 - val_loss: 0.6031 - val_accuracy: 0.6725\n",
            "Epoch 89/200\n",
            "44/44 [==============================] - 0s 3ms/step - loss: 0.5440 - accuracy: 0.7123 - val_loss: 0.6083 - val_accuracy: 0.6735\n",
            "Epoch 90/200\n",
            "44/44 [==============================] - 0s 3ms/step - loss: 0.5432 - accuracy: 0.7114 - val_loss: 0.6117 - val_accuracy: 0.6733\n",
            "Epoch 91/200\n",
            "44/44 [==============================] - 0s 2ms/step - loss: 0.5453 - accuracy: 0.7064 - val_loss: 0.6006 - val_accuracy: 0.6828\n",
            "Epoch 92/200\n",
            "44/44 [==============================] - 0s 3ms/step - loss: 0.5393 - accuracy: 0.7163 - val_loss: 0.6010 - val_accuracy: 0.6727\n",
            "Epoch 93/200\n",
            "44/44 [==============================] - 0s 3ms/step - loss: 0.5418 - accuracy: 0.7146 - val_loss: 0.6024 - val_accuracy: 0.6731\n",
            "Epoch 94/200\n",
            "44/44 [==============================] - 0s 3ms/step - loss: 0.5406 - accuracy: 0.7138 - val_loss: 0.6005 - val_accuracy: 0.6754\n",
            "Epoch 95/200\n",
            "44/44 [==============================] - 0s 3ms/step - loss: 0.5390 - accuracy: 0.7157 - val_loss: 0.6114 - val_accuracy: 0.6692\n",
            "Epoch 96/200\n",
            "44/44 [==============================] - 0s 3ms/step - loss: 0.5375 - accuracy: 0.7193 - val_loss: 0.6114 - val_accuracy: 0.6797\n",
            "Epoch 97/200\n",
            "44/44 [==============================] - 0s 3ms/step - loss: 0.5377 - accuracy: 0.7189 - val_loss: 0.5992 - val_accuracy: 0.6801\n",
            "Epoch 98/200\n",
            "44/44 [==============================] - 0s 3ms/step - loss: 0.5363 - accuracy: 0.7199 - val_loss: 0.6024 - val_accuracy: 0.6710\n",
            "Epoch 99/200\n",
            "44/44 [==============================] - 0s 3ms/step - loss: 0.5354 - accuracy: 0.7179 - val_loss: 0.6030 - val_accuracy: 0.6754\n",
            "Epoch 100/200\n",
            "44/44 [==============================] - 0s 3ms/step - loss: 0.5363 - accuracy: 0.7201 - val_loss: 0.6027 - val_accuracy: 0.6841\n",
            "Epoch 101/200\n",
            "44/44 [==============================] - 0s 3ms/step - loss: 0.5375 - accuracy: 0.7185 - val_loss: 0.6026 - val_accuracy: 0.6797\n",
            "Epoch 102/200\n",
            "44/44 [==============================] - 0s 3ms/step - loss: 0.5315 - accuracy: 0.7237 - val_loss: 0.6003 - val_accuracy: 0.6837\n",
            "Epoch 103/200\n",
            "44/44 [==============================] - 0s 3ms/step - loss: 0.5301 - accuracy: 0.7209 - val_loss: 0.5997 - val_accuracy: 0.6820\n",
            "Epoch 104/200\n",
            "44/44 [==============================] - 0s 3ms/step - loss: 0.5287 - accuracy: 0.7249 - val_loss: 0.6000 - val_accuracy: 0.6791\n",
            "Epoch 105/200\n",
            "44/44 [==============================] - 0s 3ms/step - loss: 0.5305 - accuracy: 0.7222 - val_loss: 0.5987 - val_accuracy: 0.6843\n",
            "Epoch 106/200\n",
            "44/44 [==============================] - 0s 3ms/step - loss: 0.5282 - accuracy: 0.7231 - val_loss: 0.6078 - val_accuracy: 0.6731\n",
            "Epoch 107/200\n",
            "44/44 [==============================] - 0s 3ms/step - loss: 0.5318 - accuracy: 0.7263 - val_loss: 0.6005 - val_accuracy: 0.6785\n",
            "Epoch 108/200\n",
            "44/44 [==============================] - 0s 3ms/step - loss: 0.5271 - accuracy: 0.7251 - val_loss: 0.5957 - val_accuracy: 0.6743\n",
            "Epoch 109/200\n",
            "44/44 [==============================] - 0s 3ms/step - loss: 0.5255 - accuracy: 0.7238 - val_loss: 0.6067 - val_accuracy: 0.6756\n",
            "Epoch 110/200\n",
            "44/44 [==============================] - 0s 3ms/step - loss: 0.5272 - accuracy: 0.7277 - val_loss: 0.6058 - val_accuracy: 0.6741\n",
            "Epoch 111/200\n",
            "44/44 [==============================] - 0s 2ms/step - loss: 0.5237 - accuracy: 0.7290 - val_loss: 0.5993 - val_accuracy: 0.6837\n",
            "Epoch 112/200\n",
            "44/44 [==============================] - 0s 3ms/step - loss: 0.5227 - accuracy: 0.7270 - val_loss: 0.6017 - val_accuracy: 0.6689\n",
            "Epoch 113/200\n",
            "44/44 [==============================] - 0s 2ms/step - loss: 0.5224 - accuracy: 0.7313 - val_loss: 0.6030 - val_accuracy: 0.6714\n",
            "Epoch 114/200\n",
            "44/44 [==============================] - 0s 3ms/step - loss: 0.5250 - accuracy: 0.7271 - val_loss: 0.5973 - val_accuracy: 0.6853\n",
            "Epoch 115/200\n",
            "44/44 [==============================] - 0s 3ms/step - loss: 0.5195 - accuracy: 0.7280 - val_loss: 0.6010 - val_accuracy: 0.6882\n",
            "Epoch 116/200\n",
            "44/44 [==============================] - 0s 3ms/step - loss: 0.5188 - accuracy: 0.7313 - val_loss: 0.6094 - val_accuracy: 0.6797\n",
            "Epoch 117/200\n",
            "44/44 [==============================] - 0s 3ms/step - loss: 0.5167 - accuracy: 0.7324 - val_loss: 0.6020 - val_accuracy: 0.6832\n",
            "Epoch 118/200\n",
            "44/44 [==============================] - 0s 3ms/step - loss: 0.5196 - accuracy: 0.7331 - val_loss: 0.5972 - val_accuracy: 0.6779\n",
            "Epoch 119/200\n",
            "44/44 [==============================] - 0s 3ms/step - loss: 0.5163 - accuracy: 0.7328 - val_loss: 0.6037 - val_accuracy: 0.6799\n",
            "Epoch 120/200\n",
            "44/44 [==============================] - 0s 3ms/step - loss: 0.5215 - accuracy: 0.7284 - val_loss: 0.6044 - val_accuracy: 0.6721\n",
            "Epoch 121/200\n",
            "44/44 [==============================] - 0s 3ms/step - loss: 0.5204 - accuracy: 0.7275 - val_loss: 0.5994 - val_accuracy: 0.6820\n",
            "Epoch 122/200\n",
            "44/44 [==============================] - 0s 3ms/step - loss: 0.5152 - accuracy: 0.7317 - val_loss: 0.6036 - val_accuracy: 0.6822\n",
            "Epoch 123/200\n",
            "44/44 [==============================] - 0s 3ms/step - loss: 0.5187 - accuracy: 0.7284 - val_loss: 0.5977 - val_accuracy: 0.6812\n",
            "Epoch 124/200\n",
            "44/44 [==============================] - 0s 3ms/step - loss: 0.5111 - accuracy: 0.7347 - val_loss: 0.6014 - val_accuracy: 0.6816\n",
            "Epoch 125/200\n",
            "44/44 [==============================] - 0s 3ms/step - loss: 0.5110 - accuracy: 0.7336 - val_loss: 0.5963 - val_accuracy: 0.6878\n",
            "Epoch 126/200\n",
            "44/44 [==============================] - 0s 3ms/step - loss: 0.5097 - accuracy: 0.7381 - val_loss: 0.5984 - val_accuracy: 0.6897\n",
            "Epoch 127/200\n",
            "44/44 [==============================] - 0s 3ms/step - loss: 0.5105 - accuracy: 0.7367 - val_loss: 0.6044 - val_accuracy: 0.6772\n",
            "Epoch 128/200\n",
            "44/44 [==============================] - 0s 3ms/step - loss: 0.5106 - accuracy: 0.7343 - val_loss: 0.6023 - val_accuracy: 0.6808\n",
            "Epoch 129/200\n",
            "44/44 [==============================] - 0s 3ms/step - loss: 0.5094 - accuracy: 0.7387 - val_loss: 0.5952 - val_accuracy: 0.6812\n",
            "Epoch 130/200\n",
            "44/44 [==============================] - 0s 3ms/step - loss: 0.5054 - accuracy: 0.7401 - val_loss: 0.5960 - val_accuracy: 0.6895\n",
            "Epoch 131/200\n",
            "44/44 [==============================] - 0s 3ms/step - loss: 0.5162 - accuracy: 0.7312 - val_loss: 0.6262 - val_accuracy: 0.6714\n",
            "Epoch 132/200\n",
            "44/44 [==============================] - 0s 3ms/step - loss: 0.5175 - accuracy: 0.7339 - val_loss: 0.6034 - val_accuracy: 0.6818\n",
            "Epoch 133/200\n",
            "44/44 [==============================] - 0s 3ms/step - loss: 0.5060 - accuracy: 0.7384 - val_loss: 0.5990 - val_accuracy: 0.6882\n",
            "Epoch 134/200\n",
            "44/44 [==============================] - 0s 3ms/step - loss: 0.5029 - accuracy: 0.7469 - val_loss: 0.5935 - val_accuracy: 0.6971\n",
            "Epoch 135/200\n",
            "44/44 [==============================] - 0s 3ms/step - loss: 0.5010 - accuracy: 0.7417 - val_loss: 0.5926 - val_accuracy: 0.6915\n",
            "Epoch 136/200\n",
            "44/44 [==============================] - 0s 2ms/step - loss: 0.5005 - accuracy: 0.7432 - val_loss: 0.5940 - val_accuracy: 0.6866\n",
            "Epoch 137/200\n",
            "44/44 [==============================] - 0s 2ms/step - loss: 0.4998 - accuracy: 0.7496 - val_loss: 0.5958 - val_accuracy: 0.6897\n",
            "Epoch 138/200\n",
            "44/44 [==============================] - 0s 3ms/step - loss: 0.4978 - accuracy: 0.7493 - val_loss: 0.5958 - val_accuracy: 0.6913\n",
            "Epoch 139/200\n",
            "44/44 [==============================] - 0s 3ms/step - loss: 0.4988 - accuracy: 0.7497 - val_loss: 0.5996 - val_accuracy: 0.6832\n",
            "Epoch 140/200\n",
            "44/44 [==============================] - 0s 3ms/step - loss: 0.4980 - accuracy: 0.7428 - val_loss: 0.5982 - val_accuracy: 0.6903\n",
            "Epoch 141/200\n",
            "44/44 [==============================] - 0s 3ms/step - loss: 0.4997 - accuracy: 0.7452 - val_loss: 0.5976 - val_accuracy: 0.6872\n",
            "Epoch 142/200\n",
            "44/44 [==============================] - 0s 3ms/step - loss: 0.4987 - accuracy: 0.7446 - val_loss: 0.5938 - val_accuracy: 0.6843\n",
            "Epoch 143/200\n",
            "44/44 [==============================] - 0s 3ms/step - loss: 0.4985 - accuracy: 0.7470 - val_loss: 0.6029 - val_accuracy: 0.6861\n",
            "Epoch 144/200\n",
            "44/44 [==============================] - 0s 2ms/step - loss: 0.4959 - accuracy: 0.7459 - val_loss: 0.5922 - val_accuracy: 0.6950\n",
            "Epoch 145/200\n",
            "44/44 [==============================] - 0s 3ms/step - loss: 0.4942 - accuracy: 0.7490 - val_loss: 0.5908 - val_accuracy: 0.6895\n",
            "Epoch 146/200\n",
            "44/44 [==============================] - 0s 2ms/step - loss: 0.4937 - accuracy: 0.7502 - val_loss: 0.6002 - val_accuracy: 0.6822\n",
            "Epoch 147/200\n",
            "44/44 [==============================] - 0s 2ms/step - loss: 0.4961 - accuracy: 0.7502 - val_loss: 0.5967 - val_accuracy: 0.6950\n",
            "Epoch 148/200\n",
            "44/44 [==============================] - 0s 3ms/step - loss: 0.4955 - accuracy: 0.7464 - val_loss: 0.6014 - val_accuracy: 0.6868\n",
            "Epoch 149/200\n",
            "44/44 [==============================] - 0s 3ms/step - loss: 0.4942 - accuracy: 0.7478 - val_loss: 0.5906 - val_accuracy: 0.6969\n",
            "Epoch 150/200\n",
            "44/44 [==============================] - 0s 3ms/step - loss: 0.4874 - accuracy: 0.7502 - val_loss: 0.5946 - val_accuracy: 0.6932\n",
            "Epoch 151/200\n",
            "44/44 [==============================] - 0s 3ms/step - loss: 0.4907 - accuracy: 0.7486 - val_loss: 0.5923 - val_accuracy: 0.6924\n",
            "Epoch 152/200\n",
            "44/44 [==============================] - 0s 3ms/step - loss: 0.4921 - accuracy: 0.7455 - val_loss: 0.5952 - val_accuracy: 0.6857\n",
            "Epoch 153/200\n",
            "44/44 [==============================] - 0s 3ms/step - loss: 0.4897 - accuracy: 0.7506 - val_loss: 0.5912 - val_accuracy: 0.6969\n",
            "Epoch 154/200\n",
            "44/44 [==============================] - 0s 3ms/step - loss: 0.4881 - accuracy: 0.7520 - val_loss: 0.5961 - val_accuracy: 0.6899\n",
            "Epoch 155/200\n",
            "44/44 [==============================] - 0s 3ms/step - loss: 0.4889 - accuracy: 0.7510 - val_loss: 0.5924 - val_accuracy: 0.7050\n",
            "Epoch 156/200\n",
            "44/44 [==============================] - 0s 3ms/step - loss: 0.4869 - accuracy: 0.7495 - val_loss: 0.6075 - val_accuracy: 0.6909\n",
            "Epoch 157/200\n",
            "44/44 [==============================] - 0s 3ms/step - loss: 0.4845 - accuracy: 0.7571 - val_loss: 0.5887 - val_accuracy: 0.6950\n",
            "Epoch 158/200\n",
            "44/44 [==============================] - 0s 3ms/step - loss: 0.4836 - accuracy: 0.7548 - val_loss: 0.5927 - val_accuracy: 0.7017\n",
            "Epoch 159/200\n",
            "44/44 [==============================] - 0s 3ms/step - loss: 0.4839 - accuracy: 0.7554 - val_loss: 0.5974 - val_accuracy: 0.6977\n",
            "Epoch 160/200\n",
            "44/44 [==============================] - 0s 3ms/step - loss: 0.4805 - accuracy: 0.7570 - val_loss: 0.5920 - val_accuracy: 0.6961\n",
            "Epoch 161/200\n",
            "44/44 [==============================] - 0s 3ms/step - loss: 0.4808 - accuracy: 0.7596 - val_loss: 0.5908 - val_accuracy: 0.6944\n",
            "Epoch 162/200\n",
            "44/44 [==============================] - 0s 3ms/step - loss: 0.4877 - accuracy: 0.7529 - val_loss: 0.6050 - val_accuracy: 0.7004\n",
            "Epoch 163/200\n",
            "44/44 [==============================] - 0s 3ms/step - loss: 0.4835 - accuracy: 0.7542 - val_loss: 0.5906 - val_accuracy: 0.6942\n",
            "Epoch 164/200\n",
            "44/44 [==============================] - 0s 3ms/step - loss: 0.4768 - accuracy: 0.7603 - val_loss: 0.6002 - val_accuracy: 0.6969\n",
            "Epoch 165/200\n",
            "44/44 [==============================] - 0s 3ms/step - loss: 0.4778 - accuracy: 0.7571 - val_loss: 0.6002 - val_accuracy: 0.6936\n",
            "Epoch 166/200\n",
            "44/44 [==============================] - 0s 3ms/step - loss: 0.4869 - accuracy: 0.7507 - val_loss: 0.5948 - val_accuracy: 0.7035\n",
            "Epoch 167/200\n",
            "44/44 [==============================] - 0s 3ms/step - loss: 0.4763 - accuracy: 0.7594 - val_loss: 0.6040 - val_accuracy: 0.6921\n",
            "Epoch 168/200\n",
            "44/44 [==============================] - 0s 3ms/step - loss: 0.4769 - accuracy: 0.7575 - val_loss: 0.5929 - val_accuracy: 0.6977\n",
            "Epoch 169/200\n",
            "44/44 [==============================] - 0s 3ms/step - loss: 0.4736 - accuracy: 0.7624 - val_loss: 0.5900 - val_accuracy: 0.6965\n",
            "Epoch 170/200\n",
            "44/44 [==============================] - 0s 3ms/step - loss: 0.4776 - accuracy: 0.7588 - val_loss: 0.5908 - val_accuracy: 0.7017\n",
            "Epoch 171/200\n",
            "44/44 [==============================] - 0s 3ms/step - loss: 0.4787 - accuracy: 0.7550 - val_loss: 0.6279 - val_accuracy: 0.6799\n",
            "Epoch 172/200\n",
            "44/44 [==============================] - 0s 3ms/step - loss: 0.4766 - accuracy: 0.7569 - val_loss: 0.5955 - val_accuracy: 0.6961\n",
            "Epoch 173/200\n",
            "44/44 [==============================] - 0s 3ms/step - loss: 0.4765 - accuracy: 0.7574 - val_loss: 0.5968 - val_accuracy: 0.6957\n",
            "Epoch 174/200\n",
            "44/44 [==============================] - 0s 3ms/step - loss: 0.4707 - accuracy: 0.7589 - val_loss: 0.5964 - val_accuracy: 0.6979\n",
            "Epoch 175/200\n",
            "44/44 [==============================] - 0s 3ms/step - loss: 0.4775 - accuracy: 0.7567 - val_loss: 0.6031 - val_accuracy: 0.6924\n",
            "Epoch 176/200\n",
            "44/44 [==============================] - 0s 3ms/step - loss: 0.4756 - accuracy: 0.7589 - val_loss: 0.6016 - val_accuracy: 0.7027\n",
            "Epoch 177/200\n",
            "44/44 [==============================] - 0s 3ms/step - loss: 0.4691 - accuracy: 0.7633 - val_loss: 0.5882 - val_accuracy: 0.7069\n",
            "Epoch 178/200\n",
            "44/44 [==============================] - 0s 3ms/step - loss: 0.4740 - accuracy: 0.7602 - val_loss: 0.5997 - val_accuracy: 0.7021\n",
            "Epoch 179/200\n",
            "44/44 [==============================] - 0s 3ms/step - loss: 0.4704 - accuracy: 0.7624 - val_loss: 0.5885 - val_accuracy: 0.7046\n",
            "Epoch 180/200\n",
            "44/44 [==============================] - 0s 3ms/step - loss: 0.4647 - accuracy: 0.7683 - val_loss: 0.5902 - val_accuracy: 0.7040\n",
            "Epoch 181/200\n",
            "44/44 [==============================] - 0s 3ms/step - loss: 0.4650 - accuracy: 0.7668 - val_loss: 0.5887 - val_accuracy: 0.7037\n",
            "Epoch 182/200\n",
            "44/44 [==============================] - 0s 3ms/step - loss: 0.4673 - accuracy: 0.7664 - val_loss: 0.5907 - val_accuracy: 0.7025\n",
            "Epoch 183/200\n",
            "44/44 [==============================] - 0s 3ms/step - loss: 0.4674 - accuracy: 0.7629 - val_loss: 0.6008 - val_accuracy: 0.6967\n",
            "Epoch 184/200\n",
            "44/44 [==============================] - 0s 3ms/step - loss: 0.4718 - accuracy: 0.7634 - val_loss: 0.5931 - val_accuracy: 0.7029\n",
            "Epoch 185/200\n",
            "44/44 [==============================] - 0s 3ms/step - loss: 0.4640 - accuracy: 0.7674 - val_loss: 0.5910 - val_accuracy: 0.7002\n",
            "Epoch 186/200\n",
            "44/44 [==============================] - 0s 3ms/step - loss: 0.4661 - accuracy: 0.7656 - val_loss: 0.6004 - val_accuracy: 0.6982\n",
            "Epoch 187/200\n",
            "44/44 [==============================] - 0s 3ms/step - loss: 0.4688 - accuracy: 0.7624 - val_loss: 0.6118 - val_accuracy: 0.6936\n",
            "Epoch 188/200\n",
            "44/44 [==============================] - 0s 3ms/step - loss: 0.4611 - accuracy: 0.7673 - val_loss: 0.5888 - val_accuracy: 0.7040\n",
            "Epoch 189/200\n",
            "44/44 [==============================] - 0s 3ms/step - loss: 0.4619 - accuracy: 0.7658 - val_loss: 0.5985 - val_accuracy: 0.7054\n",
            "Epoch 190/200\n",
            "44/44 [==============================] - 0s 3ms/step - loss: 0.4623 - accuracy: 0.7684 - val_loss: 0.5931 - val_accuracy: 0.6994\n",
            "Epoch 191/200\n",
            "44/44 [==============================] - 0s 3ms/step - loss: 0.4623 - accuracy: 0.7682 - val_loss: 0.5865 - val_accuracy: 0.7056\n",
            "Epoch 192/200\n",
            "44/44 [==============================] - 0s 3ms/step - loss: 0.4580 - accuracy: 0.7712 - val_loss: 0.6002 - val_accuracy: 0.7025\n",
            "Epoch 193/200\n",
            "44/44 [==============================] - 0s 4ms/step - loss: 0.4555 - accuracy: 0.7704 - val_loss: 0.5876 - val_accuracy: 0.7100\n",
            "Epoch 194/200\n",
            "44/44 [==============================] - 0s 3ms/step - loss: 0.4543 - accuracy: 0.7738 - val_loss: 0.5940 - val_accuracy: 0.7002\n",
            "Epoch 195/200\n",
            "44/44 [==============================] - 0s 3ms/step - loss: 0.4561 - accuracy: 0.7700 - val_loss: 0.6026 - val_accuracy: 0.7035\n",
            "Epoch 196/200\n",
            "44/44 [==============================] - 0s 3ms/step - loss: 0.4565 - accuracy: 0.7686 - val_loss: 0.5904 - val_accuracy: 0.7052\n",
            "Epoch 197/200\n",
            "44/44 [==============================] - 0s 3ms/step - loss: 0.4560 - accuracy: 0.7722 - val_loss: 0.5928 - val_accuracy: 0.7008\n",
            "Epoch 198/200\n",
            "44/44 [==============================] - 0s 3ms/step - loss: 0.4575 - accuracy: 0.7674 - val_loss: 0.5891 - val_accuracy: 0.7098\n",
            "Epoch 199/200\n",
            "44/44 [==============================] - 0s 3ms/step - loss: 0.4547 - accuracy: 0.7719 - val_loss: 0.6004 - val_accuracy: 0.6988\n",
            "Epoch 200/200\n",
            "44/44 [==============================] - 0s 3ms/step - loss: 0.4520 - accuracy: 0.7708 - val_loss: 0.6054 - val_accuracy: 0.6963\n"
          ],
          "name": "stdout"
        },
        {
          "output_type": "execute_result",
          "data": {
            "text/plain": [
              "<tensorflow.python.keras.callbacks.History at 0x7fe3b93b36a0>"
            ]
          },
          "metadata": {
            "tags": []
          },
          "execution_count": 65
        }
      ]
    },
    {
      "cell_type": "code",
      "metadata": {
        "id": "82Wd8o-vVPid",
        "outputId": "fda2db81-fa57-4009-aa23-6f531765a92e",
        "colab": {
          "base_uri": "https://localhost:8080/",
          "height": 282
        }
      },
      "source": [
        "pd.DataFrame(model.history.history)[['loss','val_loss']].plot() #over fitting "
      ],
      "execution_count": null,
      "outputs": [
        {
          "output_type": "execute_result",
          "data": {
            "text/plain": [
              "<matplotlib.axes._subplots.AxesSubplot at 0x7fe3b93b3f60>"
            ]
          },
          "metadata": {
            "tags": []
          },
          "execution_count": 66
        },
        {
          "output_type": "display_data",
          "data": {
            "image/png": "[encoded data removed]",
            "text/plain": [
              "<Figure size 432x288 with 1 Axes>"
            ]
          },
          "metadata": {
            "tags": []
          }
        }
      ]
    },
    {
      "cell_type": "code",
      "metadata": {
        "id": "5d0ZKtYGVYal",
        "outputId": "fd2d69a9-68f5-43b5-dbd0-4179f6cf75da",
        "colab": {
          "base_uri": "https://localhost:8080/"
        }
      },
      "source": [
        "predictions = model.predict_classes(X_test)\n",
        "\n",
        "print(\n",
        "        confusion_matrix(y_test,predictions), \n",
        "        '\\n', \n",
        "        classification_report(y_test,predictions)\n",
        ")"
      ],
      "execution_count": null,
      "outputs": [
        {
          "output_type": "stream",
          "text": [
            "[[1595  842]\n",
            " [ 624 1766]] \n",
            "               precision    recall  f1-score   support\n",
            "\n",
            "           0       0.72      0.65      0.69      2437\n",
            "           1       0.68      0.74      0.71      2390\n",
            "\n",
            "    accuracy                           0.70      4827\n",
            "   macro avg       0.70      0.70      0.70      4827\n",
            "weighted avg       0.70      0.70      0.70      4827\n",
            "\n"
          ],
          "name": "stdout"
        }
      ]
    },
    {
      "cell_type": "code",
      "metadata": {
        "id": "4tDMxE_tVemO",
        "outputId": "5208ddc7-4eee-4d3a-ba6f-40ed377addf3",
        "colab": {
          "base_uri": "https://localhost:8080/"
        }
      },
      "source": [
        "model_new = Sequential()\n",
        "\n",
        "model_new.add(\n",
        "        Dense(94, activation='relu')\n",
        ")\n",
        "\n",
        "model_new.add(Dropout(0.2))\n",
        "\n",
        "model_new.add(\n",
        "        Dense(30, activation='relu')\n",
        ")\n",
        "\n",
        "model_new.add(Dropout(0.2))\n",
        "\n",
        "model_new.add(\n",
        "        Dense(15, activation='relu')\n",
        ")\n",
        "\n",
        "model_new.add(Dropout(0.2))\n",
        "\n",
        "model_new.add(\n",
        "        Dense(1, activation='sigmoid')\n",
        ")\n",
        "\n",
        "model_new.compile(\n",
        "        optimizer='adam', \n",
        "        loss='binary_crossentropy', \n",
        "        metrics=['binary_accuracy']\n",
        ")\n",
        "\n",
        "\n",
        "model_new.fit(\n",
        "        X_train, \n",
        "        y_train, \n",
        "        epochs=200, \n",
        "        batch_size=256, \n",
        "        validation_data=(X_test, y_test),\n",
        "         callbacks=[early_stop]\n",
        ")"
      ],
      "execution_count": null,
      "outputs": [
        {
          "output_type": "stream",
          "text": [
            "Epoch 1/200\n",
            "44/44 [==============================] - 0s 6ms/step - loss: 0.6840 - binary_accuracy: 0.5617 - val_loss: 0.6701 - val_binary_accuracy: 0.6066\n",
            "Epoch 2/200\n",
            "44/44 [==============================] - 0s 4ms/step - loss: 0.6638 - binary_accuracy: 0.6039 - val_loss: 0.6605 - val_binary_accuracy: 0.6020\n",
            "Epoch 3/200\n",
            "44/44 [==============================] - 0s 3ms/step - loss: 0.6563 - binary_accuracy: 0.6139 - val_loss: 0.6566 - val_binary_accuracy: 0.6039\n",
            "Epoch 4/200\n",
            "44/44 [==============================] - 0s 3ms/step - loss: 0.6560 - binary_accuracy: 0.6113 - val_loss: 0.6559 - val_binary_accuracy: 0.6147\n",
            "Epoch 5/200\n",
            "44/44 [==============================] - 0s 3ms/step - loss: 0.6527 - binary_accuracy: 0.6148 - val_loss: 0.6534 - val_binary_accuracy: 0.6130\n",
            "Epoch 6/200\n",
            "44/44 [==============================] - 0s 4ms/step - loss: 0.6496 - binary_accuracy: 0.6224 - val_loss: 0.6524 - val_binary_accuracy: 0.6151\n",
            "Epoch 7/200\n",
            "44/44 [==============================] - 0s 4ms/step - loss: 0.6496 - binary_accuracy: 0.6231 - val_loss: 0.6515 - val_binary_accuracy: 0.6128\n",
            "Epoch 8/200\n",
            "44/44 [==============================] - 0s 4ms/step - loss: 0.6480 - binary_accuracy: 0.6185 - val_loss: 0.6502 - val_binary_accuracy: 0.6174\n",
            "Epoch 9/200\n",
            "44/44 [==============================] - 0s 3ms/step - loss: 0.6465 - binary_accuracy: 0.6157 - val_loss: 0.6501 - val_binary_accuracy: 0.6207\n",
            "Epoch 10/200\n",
            "44/44 [==============================] - 0s 4ms/step - loss: 0.6446 - binary_accuracy: 0.6227 - val_loss: 0.6498 - val_binary_accuracy: 0.6186\n",
            "Epoch 11/200\n",
            "44/44 [==============================] - 0s 3ms/step - loss: 0.6447 - binary_accuracy: 0.6249 - val_loss: 0.6479 - val_binary_accuracy: 0.6155\n",
            "Epoch 12/200\n",
            "44/44 [==============================] - 0s 3ms/step - loss: 0.6447 - binary_accuracy: 0.6283 - val_loss: 0.6480 - val_binary_accuracy: 0.6203\n",
            "Epoch 13/200\n",
            "44/44 [==============================] - 0s 3ms/step - loss: 0.6430 - binary_accuracy: 0.6209 - val_loss: 0.6462 - val_binary_accuracy: 0.6163\n",
            "Epoch 14/200\n",
            "44/44 [==============================] - 0s 3ms/step - loss: 0.6399 - binary_accuracy: 0.6251 - val_loss: 0.6460 - val_binary_accuracy: 0.6153\n",
            "Epoch 15/200\n",
            "44/44 [==============================] - 0s 3ms/step - loss: 0.6398 - binary_accuracy: 0.6295 - val_loss: 0.6454 - val_binary_accuracy: 0.6180\n",
            "Epoch 16/200\n",
            "44/44 [==============================] - 0s 4ms/step - loss: 0.6414 - binary_accuracy: 0.6247 - val_loss: 0.6444 - val_binary_accuracy: 0.6230\n",
            "Epoch 17/200\n",
            "44/44 [==============================] - 0s 4ms/step - loss: 0.6388 - binary_accuracy: 0.6250 - val_loss: 0.6440 - val_binary_accuracy: 0.6157\n",
            "Epoch 18/200\n",
            "44/44 [==============================] - 0s 4ms/step - loss: 0.6392 - binary_accuracy: 0.6292 - val_loss: 0.6432 - val_binary_accuracy: 0.6221\n",
            "Epoch 19/200\n",
            "44/44 [==============================] - 0s 4ms/step - loss: 0.6375 - binary_accuracy: 0.6305 - val_loss: 0.6431 - val_binary_accuracy: 0.6221\n",
            "Epoch 20/200\n",
            "44/44 [==============================] - 0s 3ms/step - loss: 0.6374 - binary_accuracy: 0.6318 - val_loss: 0.6420 - val_binary_accuracy: 0.6234\n",
            "Epoch 21/200\n",
            "44/44 [==============================] - 0s 3ms/step - loss: 0.6382 - binary_accuracy: 0.6322 - val_loss: 0.6424 - val_binary_accuracy: 0.6236\n",
            "Epoch 22/200\n",
            "44/44 [==============================] - 0s 4ms/step - loss: 0.6366 - binary_accuracy: 0.6275 - val_loss: 0.6416 - val_binary_accuracy: 0.6207\n",
            "Epoch 23/200\n",
            "44/44 [==============================] - 0s 4ms/step - loss: 0.6368 - binary_accuracy: 0.6298 - val_loss: 0.6414 - val_binary_accuracy: 0.6244\n",
            "Epoch 24/200\n",
            "44/44 [==============================] - 0s 3ms/step - loss: 0.6340 - binary_accuracy: 0.6322 - val_loss: 0.6406 - val_binary_accuracy: 0.6261\n",
            "Epoch 25/200\n",
            "44/44 [==============================] - 0s 4ms/step - loss: 0.6363 - binary_accuracy: 0.6271 - val_loss: 0.6398 - val_binary_accuracy: 0.6215\n",
            "Epoch 26/200\n",
            "44/44 [==============================] - 0s 4ms/step - loss: 0.6339 - binary_accuracy: 0.6307 - val_loss: 0.6401 - val_binary_accuracy: 0.6275\n",
            "Epoch 27/200\n",
            "44/44 [==============================] - 0s 4ms/step - loss: 0.6326 - binary_accuracy: 0.6287 - val_loss: 0.6408 - val_binary_accuracy: 0.6250\n",
            "Epoch 28/200\n",
            "44/44 [==============================] - 0s 3ms/step - loss: 0.6330 - binary_accuracy: 0.6378 - val_loss: 0.6384 - val_binary_accuracy: 0.6263\n",
            "Epoch 29/200\n",
            "44/44 [==============================] - 0s 3ms/step - loss: 0.6315 - binary_accuracy: 0.6335 - val_loss: 0.6382 - val_binary_accuracy: 0.6277\n",
            "Epoch 30/200\n",
            "44/44 [==============================] - 0s 4ms/step - loss: 0.6311 - binary_accuracy: 0.6338 - val_loss: 0.6389 - val_binary_accuracy: 0.6259\n",
            "Epoch 31/200\n",
            "44/44 [==============================] - 0s 3ms/step - loss: 0.6301 - binary_accuracy: 0.6350 - val_loss: 0.6383 - val_binary_accuracy: 0.6281\n",
            "Epoch 32/200\n",
            "44/44 [==============================] - 0s 4ms/step - loss: 0.6297 - binary_accuracy: 0.6379 - val_loss: 0.6372 - val_binary_accuracy: 0.6252\n",
            "Epoch 33/200\n",
            "44/44 [==============================] - 0s 3ms/step - loss: 0.6296 - binary_accuracy: 0.6357 - val_loss: 0.6359 - val_binary_accuracy: 0.6296\n",
            "Epoch 34/200\n",
            "44/44 [==============================] - 0s 3ms/step - loss: 0.6293 - binary_accuracy: 0.6370 - val_loss: 0.6358 - val_binary_accuracy: 0.6285\n",
            "Epoch 35/200\n",
            "44/44 [==============================] - 0s 3ms/step - loss: 0.6308 - binary_accuracy: 0.6385 - val_loss: 0.6363 - val_binary_accuracy: 0.6261\n",
            "Epoch 36/200\n",
            "44/44 [==============================] - 0s 3ms/step - loss: 0.6283 - binary_accuracy: 0.6417 - val_loss: 0.6371 - val_binary_accuracy: 0.6227\n",
            "Epoch 37/200\n",
            "44/44 [==============================] - 0s 3ms/step - loss: 0.6266 - binary_accuracy: 0.6394 - val_loss: 0.6358 - val_binary_accuracy: 0.6283\n",
            "Epoch 38/200\n",
            "44/44 [==============================] - 0s 3ms/step - loss: 0.6280 - binary_accuracy: 0.6394 - val_loss: 0.6355 - val_binary_accuracy: 0.6327\n",
            "Epoch 39/200\n",
            "44/44 [==============================] - 0s 3ms/step - loss: 0.6252 - binary_accuracy: 0.6370 - val_loss: 0.6342 - val_binary_accuracy: 0.6335\n",
            "Epoch 40/200\n",
            "44/44 [==============================] - 0s 3ms/step - loss: 0.6265 - binary_accuracy: 0.6367 - val_loss: 0.6340 - val_binary_accuracy: 0.6294\n",
            "Epoch 41/200\n",
            "44/44 [==============================] - 0s 4ms/step - loss: 0.6266 - binary_accuracy: 0.6350 - val_loss: 0.6338 - val_binary_accuracy: 0.6314\n",
            "Epoch 42/200\n",
            "44/44 [==============================] - 0s 3ms/step - loss: 0.6253 - binary_accuracy: 0.6396 - val_loss: 0.6330 - val_binary_accuracy: 0.6314\n",
            "Epoch 43/200\n",
            "44/44 [==============================] - 0s 3ms/step - loss: 0.6261 - binary_accuracy: 0.6393 - val_loss: 0.6356 - val_binary_accuracy: 0.6319\n",
            "Epoch 44/200\n",
            "44/44 [==============================] - 0s 4ms/step - loss: 0.6241 - binary_accuracy: 0.6407 - val_loss: 0.6333 - val_binary_accuracy: 0.6341\n",
            "Epoch 45/200\n",
            "44/44 [==============================] - 0s 3ms/step - loss: 0.6231 - binary_accuracy: 0.6399 - val_loss: 0.6329 - val_binary_accuracy: 0.6319\n",
            "Epoch 46/200\n",
            "44/44 [==============================] - 0s 3ms/step - loss: 0.6223 - binary_accuracy: 0.6433 - val_loss: 0.6322 - val_binary_accuracy: 0.6331\n",
            "Epoch 47/200\n",
            "44/44 [==============================] - 0s 4ms/step - loss: 0.6228 - binary_accuracy: 0.6450 - val_loss: 0.6312 - val_binary_accuracy: 0.6346\n",
            "Epoch 48/200\n",
            "44/44 [==============================] - 0s 4ms/step - loss: 0.6216 - binary_accuracy: 0.6465 - val_loss: 0.6332 - val_binary_accuracy: 0.6308\n",
            "Epoch 49/200\n",
            "44/44 [==============================] - 0s 3ms/step - loss: 0.6196 - binary_accuracy: 0.6457 - val_loss: 0.6308 - val_binary_accuracy: 0.6333\n",
            "Epoch 50/200\n",
            "44/44 [==============================] - 0s 4ms/step - loss: 0.6196 - binary_accuracy: 0.6414 - val_loss: 0.6319 - val_binary_accuracy: 0.6339\n",
            "Epoch 51/200\n",
            "44/44 [==============================] - 0s 3ms/step - loss: 0.6201 - binary_accuracy: 0.6415 - val_loss: 0.6309 - val_binary_accuracy: 0.6331\n",
            "Epoch 52/200\n",
            "44/44 [==============================] - 0s 3ms/step - loss: 0.6195 - binary_accuracy: 0.6450 - val_loss: 0.6340 - val_binary_accuracy: 0.6323\n",
            "Epoch 53/200\n",
            "44/44 [==============================] - 0s 4ms/step - loss: 0.6209 - binary_accuracy: 0.6453 - val_loss: 0.6304 - val_binary_accuracy: 0.6391\n",
            "Epoch 54/200\n",
            "44/44 [==============================] - 0s 4ms/step - loss: 0.6207 - binary_accuracy: 0.6454 - val_loss: 0.6310 - val_binary_accuracy: 0.6337\n",
            "Epoch 55/200\n",
            "44/44 [==============================] - 0s 3ms/step - loss: 0.6181 - binary_accuracy: 0.6444 - val_loss: 0.6291 - val_binary_accuracy: 0.6364\n",
            "Epoch 56/200\n",
            "44/44 [==============================] - 0s 4ms/step - loss: 0.6162 - binary_accuracy: 0.6497 - val_loss: 0.6316 - val_binary_accuracy: 0.6354\n",
            "Epoch 57/200\n",
            "44/44 [==============================] - 0s 3ms/step - loss: 0.6174 - binary_accuracy: 0.6494 - val_loss: 0.6288 - val_binary_accuracy: 0.6391\n",
            "Epoch 58/200\n",
            "44/44 [==============================] - 0s 4ms/step - loss: 0.6169 - binary_accuracy: 0.6512 - val_loss: 0.6282 - val_binary_accuracy: 0.6356\n",
            "Epoch 59/200\n",
            "44/44 [==============================] - 0s 4ms/step - loss: 0.6147 - binary_accuracy: 0.6530 - val_loss: 0.6281 - val_binary_accuracy: 0.6426\n",
            "Epoch 60/200\n",
            "44/44 [==============================] - 0s 4ms/step - loss: 0.6152 - binary_accuracy: 0.6547 - val_loss: 0.6284 - val_binary_accuracy: 0.6430\n",
            "Epoch 61/200\n",
            "44/44 [==============================] - 0s 3ms/step - loss: 0.6144 - binary_accuracy: 0.6535 - val_loss: 0.6270 - val_binary_accuracy: 0.6399\n",
            "Epoch 62/200\n",
            "44/44 [==============================] - 0s 4ms/step - loss: 0.6135 - binary_accuracy: 0.6522 - val_loss: 0.6277 - val_binary_accuracy: 0.6449\n",
            "Epoch 63/200\n",
            "44/44 [==============================] - 0s 4ms/step - loss: 0.6158 - binary_accuracy: 0.6547 - val_loss: 0.6283 - val_binary_accuracy: 0.6375\n",
            "Epoch 64/200\n",
            "44/44 [==============================] - 0s 3ms/step - loss: 0.6137 - binary_accuracy: 0.6469 - val_loss: 0.6279 - val_binary_accuracy: 0.6401\n",
            "Epoch 65/200\n",
            "44/44 [==============================] - 0s 4ms/step - loss: 0.6104 - binary_accuracy: 0.6547 - val_loss: 0.6281 - val_binary_accuracy: 0.6383\n",
            "Epoch 66/200\n",
            "44/44 [==============================] - 0s 3ms/step - loss: 0.6111 - binary_accuracy: 0.6544 - val_loss: 0.6269 - val_binary_accuracy: 0.6395\n",
            "Epoch 67/200\n",
            "44/44 [==============================] - 0s 3ms/step - loss: 0.6105 - binary_accuracy: 0.6537 - val_loss: 0.6250 - val_binary_accuracy: 0.6418\n",
            "Epoch 68/200\n",
            "44/44 [==============================] - 0s 4ms/step - loss: 0.6127 - binary_accuracy: 0.6540 - val_loss: 0.6255 - val_binary_accuracy: 0.6462\n",
            "Epoch 69/200\n",
            "44/44 [==============================] - 0s 3ms/step - loss: 0.6109 - binary_accuracy: 0.6566 - val_loss: 0.6248 - val_binary_accuracy: 0.6424\n",
            "Epoch 70/200\n",
            "44/44 [==============================] - 0s 3ms/step - loss: 0.6066 - binary_accuracy: 0.6561 - val_loss: 0.6227 - val_binary_accuracy: 0.6495\n",
            "Epoch 71/200\n",
            "44/44 [==============================] - 0s 3ms/step - loss: 0.6114 - binary_accuracy: 0.6513 - val_loss: 0.6238 - val_binary_accuracy: 0.6524\n",
            "Epoch 72/200\n",
            "44/44 [==============================] - 0s 4ms/step - loss: 0.6103 - binary_accuracy: 0.6536 - val_loss: 0.6237 - val_binary_accuracy: 0.6474\n",
            "Epoch 73/200\n",
            "44/44 [==============================] - 0s 4ms/step - loss: 0.6072 - binary_accuracy: 0.6556 - val_loss: 0.6244 - val_binary_accuracy: 0.6462\n",
            "Epoch 74/200\n",
            "44/44 [==============================] - 0s 3ms/step - loss: 0.6091 - binary_accuracy: 0.6551 - val_loss: 0.6213 - val_binary_accuracy: 0.6536\n",
            "Epoch 75/200\n",
            "44/44 [==============================] - 0s 3ms/step - loss: 0.6056 - binary_accuracy: 0.6596 - val_loss: 0.6230 - val_binary_accuracy: 0.6474\n",
            "Epoch 76/200\n",
            "44/44 [==============================] - 0s 4ms/step - loss: 0.6056 - binary_accuracy: 0.6577 - val_loss: 0.6223 - val_binary_accuracy: 0.6486\n",
            "Epoch 77/200\n",
            "44/44 [==============================] - 0s 4ms/step - loss: 0.6064 - binary_accuracy: 0.6582 - val_loss: 0.6215 - val_binary_accuracy: 0.6489\n",
            "Epoch 78/200\n",
            "44/44 [==============================] - 0s 4ms/step - loss: 0.6026 - binary_accuracy: 0.6611 - val_loss: 0.6225 - val_binary_accuracy: 0.6466\n",
            "Epoch 79/200\n",
            "44/44 [==============================] - 0s 4ms/step - loss: 0.6036 - binary_accuracy: 0.6603 - val_loss: 0.6233 - val_binary_accuracy: 0.6462\n",
            "Epoch 80/200\n",
            "44/44 [==============================] - 0s 4ms/step - loss: 0.6011 - binary_accuracy: 0.6651 - val_loss: 0.6209 - val_binary_accuracy: 0.6482\n",
            "Epoch 81/200\n",
            "44/44 [==============================] - 0s 4ms/step - loss: 0.6013 - binary_accuracy: 0.6621 - val_loss: 0.6205 - val_binary_accuracy: 0.6530\n",
            "Epoch 82/200\n",
            "44/44 [==============================] - 0s 3ms/step - loss: 0.6033 - binary_accuracy: 0.6623 - val_loss: 0.6203 - val_binary_accuracy: 0.6538\n",
            "Epoch 83/200\n",
            "44/44 [==============================] - 0s 3ms/step - loss: 0.6011 - binary_accuracy: 0.6662 - val_loss: 0.6211 - val_binary_accuracy: 0.6542\n",
            "Epoch 84/200\n",
            "44/44 [==============================] - 0s 4ms/step - loss: 0.6023 - binary_accuracy: 0.6627 - val_loss: 0.6186 - val_binary_accuracy: 0.6538\n",
            "Epoch 85/200\n",
            "44/44 [==============================] - 0s 3ms/step - loss: 0.6011 - binary_accuracy: 0.6618 - val_loss: 0.6193 - val_binary_accuracy: 0.6544\n",
            "Epoch 86/200\n",
            "44/44 [==============================] - 0s 3ms/step - loss: 0.6023 - binary_accuracy: 0.6646 - val_loss: 0.6189 - val_binary_accuracy: 0.6538\n",
            "Epoch 87/200\n",
            "44/44 [==============================] - 0s 4ms/step - loss: 0.5976 - binary_accuracy: 0.6640 - val_loss: 0.6178 - val_binary_accuracy: 0.6561\n",
            "Epoch 88/200\n",
            "44/44 [==============================] - 0s 3ms/step - loss: 0.6005 - binary_accuracy: 0.6682 - val_loss: 0.6173 - val_binary_accuracy: 0.6567\n",
            "Epoch 89/200\n",
            "44/44 [==============================] - 0s 3ms/step - loss: 0.5994 - binary_accuracy: 0.6671 - val_loss: 0.6171 - val_binary_accuracy: 0.6609\n",
            "Epoch 90/200\n",
            "44/44 [==============================] - 0s 4ms/step - loss: 0.5989 - binary_accuracy: 0.6640 - val_loss: 0.6170 - val_binary_accuracy: 0.6582\n",
            "Epoch 91/200\n",
            "44/44 [==============================] - 0s 3ms/step - loss: 0.5996 - binary_accuracy: 0.6648 - val_loss: 0.6193 - val_binary_accuracy: 0.6538\n",
            "Epoch 92/200\n",
            "44/44 [==============================] - 0s 3ms/step - loss: 0.5996 - binary_accuracy: 0.6580 - val_loss: 0.6178 - val_binary_accuracy: 0.6538\n",
            "Epoch 93/200\n",
            "44/44 [==============================] - 0s 4ms/step - loss: 0.5977 - binary_accuracy: 0.6712 - val_loss: 0.6184 - val_binary_accuracy: 0.6530\n",
            "Epoch 94/200\n",
            "44/44 [==============================] - 0s 3ms/step - loss: 0.5987 - binary_accuracy: 0.6693 - val_loss: 0.6163 - val_binary_accuracy: 0.6567\n",
            "Epoch 95/200\n",
            "44/44 [==============================] - 0s 3ms/step - loss: 0.5950 - binary_accuracy: 0.6642 - val_loss: 0.6178 - val_binary_accuracy: 0.6542\n",
            "Epoch 96/200\n",
            "44/44 [==============================] - 0s 3ms/step - loss: 0.5930 - binary_accuracy: 0.6703 - val_loss: 0.6148 - val_binary_accuracy: 0.6553\n",
            "Epoch 97/200\n",
            "44/44 [==============================] - 0s 3ms/step - loss: 0.5950 - binary_accuracy: 0.6702 - val_loss: 0.6152 - val_binary_accuracy: 0.6573\n",
            "Epoch 98/200\n",
            "44/44 [==============================] - 0s 3ms/step - loss: 0.5946 - binary_accuracy: 0.6736 - val_loss: 0.6148 - val_binary_accuracy: 0.6592\n",
            "Epoch 99/200\n",
            "44/44 [==============================] - 0s 4ms/step - loss: 0.5911 - binary_accuracy: 0.6710 - val_loss: 0.6154 - val_binary_accuracy: 0.6613\n",
            "Epoch 100/200\n",
            "44/44 [==============================] - 0s 4ms/step - loss: 0.5918 - binary_accuracy: 0.6788 - val_loss: 0.6131 - val_binary_accuracy: 0.6588\n",
            "Epoch 101/200\n",
            "44/44 [==============================] - 0s 4ms/step - loss: 0.5948 - binary_accuracy: 0.6733 - val_loss: 0.6126 - val_binary_accuracy: 0.6547\n",
            "Epoch 102/200\n",
            "44/44 [==============================] - 0s 3ms/step - loss: 0.5888 - binary_accuracy: 0.6807 - val_loss: 0.6107 - val_binary_accuracy: 0.6623\n",
            "Epoch 103/200\n",
            "44/44 [==============================] - 0s 3ms/step - loss: 0.5919 - binary_accuracy: 0.6740 - val_loss: 0.6107 - val_binary_accuracy: 0.6656\n",
            "Epoch 104/200\n",
            "44/44 [==============================] - 0s 3ms/step - loss: 0.5936 - binary_accuracy: 0.6709 - val_loss: 0.6103 - val_binary_accuracy: 0.6611\n",
            "Epoch 105/200\n",
            "44/44 [==============================] - 0s 3ms/step - loss: 0.5888 - binary_accuracy: 0.6752 - val_loss: 0.6111 - val_binary_accuracy: 0.6582\n",
            "Epoch 106/200\n",
            "44/44 [==============================] - 0s 4ms/step - loss: 0.5924 - binary_accuracy: 0.6731 - val_loss: 0.6101 - val_binary_accuracy: 0.6663\n",
            "Epoch 107/200\n",
            "44/44 [==============================] - 0s 3ms/step - loss: 0.5868 - binary_accuracy: 0.6801 - val_loss: 0.6116 - val_binary_accuracy: 0.6613\n",
            "Epoch 108/200\n",
            "44/44 [==============================] - 0s 4ms/step - loss: 0.5915 - binary_accuracy: 0.6725 - val_loss: 0.6112 - val_binary_accuracy: 0.6609\n",
            "Epoch 109/200\n",
            "44/44 [==============================] - 0s 4ms/step - loss: 0.5857 - binary_accuracy: 0.6814 - val_loss: 0.6102 - val_binary_accuracy: 0.6642\n",
            "Epoch 110/200\n",
            "44/44 [==============================] - 0s 4ms/step - loss: 0.5857 - binary_accuracy: 0.6796 - val_loss: 0.6090 - val_binary_accuracy: 0.6665\n",
            "Epoch 111/200\n",
            "44/44 [==============================] - 0s 4ms/step - loss: 0.5882 - binary_accuracy: 0.6796 - val_loss: 0.6095 - val_binary_accuracy: 0.6636\n",
            "Epoch 112/200\n",
            "44/44 [==============================] - 0s 4ms/step - loss: 0.5887 - binary_accuracy: 0.6789 - val_loss: 0.6088 - val_binary_accuracy: 0.6613\n",
            "Epoch 113/200\n",
            "44/44 [==============================] - 0s 4ms/step - loss: 0.5843 - binary_accuracy: 0.6788 - val_loss: 0.6089 - val_binary_accuracy: 0.6660\n",
            "Epoch 114/200\n",
            "44/44 [==============================] - 0s 4ms/step - loss: 0.5842 - binary_accuracy: 0.6811 - val_loss: 0.6084 - val_binary_accuracy: 0.6607\n",
            "Epoch 115/200\n",
            "44/44 [==============================] - 0s 3ms/step - loss: 0.5860 - binary_accuracy: 0.6797 - val_loss: 0.6091 - val_binary_accuracy: 0.6605\n",
            "Epoch 116/200\n",
            "44/44 [==============================] - 0s 4ms/step - loss: 0.5899 - binary_accuracy: 0.6759 - val_loss: 0.6095 - val_binary_accuracy: 0.6638\n",
            "Epoch 117/200\n",
            "44/44 [==============================] - 0s 4ms/step - loss: 0.5855 - binary_accuracy: 0.6814 - val_loss: 0.6106 - val_binary_accuracy: 0.6615\n",
            "Epoch 118/200\n",
            "44/44 [==============================] - 0s 4ms/step - loss: 0.5846 - binary_accuracy: 0.6797 - val_loss: 0.6059 - val_binary_accuracy: 0.6646\n",
            "Epoch 119/200\n",
            "44/44 [==============================] - 0s 3ms/step - loss: 0.5832 - binary_accuracy: 0.6863 - val_loss: 0.6088 - val_binary_accuracy: 0.6665\n",
            "Epoch 120/200\n",
            "44/44 [==============================] - 0s 4ms/step - loss: 0.5833 - binary_accuracy: 0.6829 - val_loss: 0.6064 - val_binary_accuracy: 0.6621\n",
            "Epoch 121/200\n",
            "44/44 [==============================] - 0s 4ms/step - loss: 0.5817 - binary_accuracy: 0.6853 - val_loss: 0.6081 - val_binary_accuracy: 0.6621\n",
            "Epoch 122/200\n",
            "44/44 [==============================] - 0s 3ms/step - loss: 0.5832 - binary_accuracy: 0.6809 - val_loss: 0.6065 - val_binary_accuracy: 0.6613\n",
            "Epoch 123/200\n",
            "44/44 [==============================] - 0s 4ms/step - loss: 0.5817 - binary_accuracy: 0.6860 - val_loss: 0.6034 - val_binary_accuracy: 0.6644\n",
            "Epoch 124/200\n",
            "44/44 [==============================] - 0s 4ms/step - loss: 0.5781 - binary_accuracy: 0.6831 - val_loss: 0.6055 - val_binary_accuracy: 0.6700\n",
            "Epoch 125/200\n",
            "44/44 [==============================] - 0s 3ms/step - loss: 0.5806 - binary_accuracy: 0.6837 - val_loss: 0.6041 - val_binary_accuracy: 0.6658\n",
            "Epoch 126/200\n",
            "44/44 [==============================] - 0s 4ms/step - loss: 0.5813 - binary_accuracy: 0.6831 - val_loss: 0.6034 - val_binary_accuracy: 0.6665\n",
            "Epoch 127/200\n",
            "44/44 [==============================] - 0s 3ms/step - loss: 0.5780 - binary_accuracy: 0.6898 - val_loss: 0.6047 - val_binary_accuracy: 0.6646\n",
            "Epoch 128/200\n",
            "44/44 [==============================] - 0s 4ms/step - loss: 0.5770 - binary_accuracy: 0.6874 - val_loss: 0.6086 - val_binary_accuracy: 0.6631\n",
            "Epoch 129/200\n",
            "44/44 [==============================] - 0s 3ms/step - loss: 0.5782 - binary_accuracy: 0.6895 - val_loss: 0.6030 - val_binary_accuracy: 0.6648\n",
            "Epoch 130/200\n",
            "44/44 [==============================] - 0s 4ms/step - loss: 0.5776 - binary_accuracy: 0.6882 - val_loss: 0.6033 - val_binary_accuracy: 0.6708\n",
            "Epoch 131/200\n",
            "44/44 [==============================] - 0s 4ms/step - loss: 0.5764 - binary_accuracy: 0.6881 - val_loss: 0.6004 - val_binary_accuracy: 0.6729\n",
            "Epoch 132/200\n",
            "44/44 [==============================] - 0s 4ms/step - loss: 0.5743 - binary_accuracy: 0.6908 - val_loss: 0.6017 - val_binary_accuracy: 0.6700\n",
            "Epoch 133/200\n",
            "44/44 [==============================] - 0s 4ms/step - loss: 0.5732 - binary_accuracy: 0.6888 - val_loss: 0.6045 - val_binary_accuracy: 0.6675\n",
            "Epoch 134/200\n",
            "44/44 [==============================] - 0s 3ms/step - loss: 0.5775 - binary_accuracy: 0.6888 - val_loss: 0.6006 - val_binary_accuracy: 0.6745\n",
            "Epoch 135/200\n",
            "44/44 [==============================] - 0s 4ms/step - loss: 0.5764 - binary_accuracy: 0.6842 - val_loss: 0.5993 - val_binary_accuracy: 0.6712\n",
            "Epoch 136/200\n",
            "44/44 [==============================] - 0s 4ms/step - loss: 0.5747 - binary_accuracy: 0.6914 - val_loss: 0.6008 - val_binary_accuracy: 0.6692\n",
            "Epoch 137/200\n",
            "44/44 [==============================] - 0s 4ms/step - loss: 0.5723 - binary_accuracy: 0.6924 - val_loss: 0.5991 - val_binary_accuracy: 0.6708\n",
            "Epoch 138/200\n",
            "44/44 [==============================] - 0s 3ms/step - loss: 0.5759 - binary_accuracy: 0.6871 - val_loss: 0.6006 - val_binary_accuracy: 0.6685\n",
            "Epoch 139/200\n",
            "44/44 [==============================] - 0s 3ms/step - loss: 0.5705 - binary_accuracy: 0.6900 - val_loss: 0.5978 - val_binary_accuracy: 0.6700\n",
            "Epoch 140/200\n",
            "44/44 [==============================] - 0s 3ms/step - loss: 0.5715 - binary_accuracy: 0.6949 - val_loss: 0.6011 - val_binary_accuracy: 0.6665\n",
            "Epoch 141/200\n",
            "44/44 [==============================] - 0s 3ms/step - loss: 0.5774 - binary_accuracy: 0.6842 - val_loss: 0.5995 - val_binary_accuracy: 0.6716\n",
            "Epoch 142/200\n",
            "44/44 [==============================] - 0s 3ms/step - loss: 0.5755 - binary_accuracy: 0.6915 - val_loss: 0.5980 - val_binary_accuracy: 0.6727\n",
            "Epoch 143/200\n",
            "44/44 [==============================] - 0s 3ms/step - loss: 0.5697 - binary_accuracy: 0.6938 - val_loss: 0.5970 - val_binary_accuracy: 0.6718\n",
            "Epoch 144/200\n",
            "44/44 [==============================] - 0s 3ms/step - loss: 0.5718 - binary_accuracy: 0.6970 - val_loss: 0.5978 - val_binary_accuracy: 0.6741\n",
            "Epoch 145/200\n",
            "44/44 [==============================] - 0s 3ms/step - loss: 0.5748 - binary_accuracy: 0.6887 - val_loss: 0.5961 - val_binary_accuracy: 0.6772\n",
            "Epoch 146/200\n",
            "44/44 [==============================] - 0s 3ms/step - loss: 0.5724 - binary_accuracy: 0.6910 - val_loss: 0.5973 - val_binary_accuracy: 0.6747\n",
            "Epoch 147/200\n",
            "44/44 [==============================] - 0s 3ms/step - loss: 0.5716 - binary_accuracy: 0.6910 - val_loss: 0.5989 - val_binary_accuracy: 0.6766\n",
            "Epoch 148/200\n",
            "44/44 [==============================] - 0s 4ms/step - loss: 0.5697 - binary_accuracy: 0.6930 - val_loss: 0.5947 - val_binary_accuracy: 0.6735\n",
            "Epoch 149/200\n",
            "44/44 [==============================] - 0s 3ms/step - loss: 0.5731 - binary_accuracy: 0.6924 - val_loss: 0.5941 - val_binary_accuracy: 0.6764\n",
            "Epoch 150/200\n",
            "44/44 [==============================] - 0s 3ms/step - loss: 0.5699 - binary_accuracy: 0.6934 - val_loss: 0.5959 - val_binary_accuracy: 0.6824\n",
            "Epoch 151/200\n",
            "44/44 [==============================] - 0s 3ms/step - loss: 0.5660 - binary_accuracy: 0.6945 - val_loss: 0.5937 - val_binary_accuracy: 0.6783\n",
            "Epoch 152/200\n",
            "44/44 [==============================] - 0s 3ms/step - loss: 0.5642 - binary_accuracy: 0.7001 - val_loss: 0.5950 - val_binary_accuracy: 0.6772\n",
            "Epoch 153/200\n",
            "44/44 [==============================] - 0s 3ms/step - loss: 0.5653 - binary_accuracy: 0.6967 - val_loss: 0.5921 - val_binary_accuracy: 0.6816\n",
            "Epoch 154/200\n",
            "44/44 [==============================] - 0s 3ms/step - loss: 0.5665 - binary_accuracy: 0.6933 - val_loss: 0.5955 - val_binary_accuracy: 0.6741\n",
            "Epoch 155/200\n",
            "44/44 [==============================] - 0s 3ms/step - loss: 0.5670 - binary_accuracy: 0.6991 - val_loss: 0.5940 - val_binary_accuracy: 0.6810\n",
            "Epoch 156/200\n",
            "44/44 [==============================] - 0s 4ms/step - loss: 0.5663 - binary_accuracy: 0.6961 - val_loss: 0.5929 - val_binary_accuracy: 0.6849\n",
            "Epoch 157/200\n",
            "44/44 [==============================] - 0s 4ms/step - loss: 0.5657 - binary_accuracy: 0.6982 - val_loss: 0.5903 - val_binary_accuracy: 0.6803\n",
            "Epoch 158/200\n",
            "44/44 [==============================] - 0s 4ms/step - loss: 0.5660 - binary_accuracy: 0.6955 - val_loss: 0.5959 - val_binary_accuracy: 0.6760\n",
            "Epoch 159/200\n",
            "44/44 [==============================] - 0s 4ms/step - loss: 0.5635 - binary_accuracy: 0.6990 - val_loss: 0.5891 - val_binary_accuracy: 0.6820\n",
            "Epoch 160/200\n",
            "44/44 [==============================] - 0s 4ms/step - loss: 0.5626 - binary_accuracy: 0.6982 - val_loss: 0.5947 - val_binary_accuracy: 0.6814\n",
            "Epoch 161/200\n",
            "44/44 [==============================] - 0s 4ms/step - loss: 0.5657 - binary_accuracy: 0.6979 - val_loss: 0.5932 - val_binary_accuracy: 0.6828\n",
            "Epoch 162/200\n",
            "44/44 [==============================] - 0s 4ms/step - loss: 0.5636 - binary_accuracy: 0.6989 - val_loss: 0.5917 - val_binary_accuracy: 0.6812\n",
            "Epoch 163/200\n",
            "44/44 [==============================] - 0s 4ms/step - loss: 0.5603 - binary_accuracy: 0.6979 - val_loss: 0.5902 - val_binary_accuracy: 0.6861\n",
            "Epoch 164/200\n",
            "44/44 [==============================] - 0s 4ms/step - loss: 0.5637 - binary_accuracy: 0.6998 - val_loss: 0.5908 - val_binary_accuracy: 0.6818\n",
            "Epoch 165/200\n",
            "44/44 [==============================] - 0s 4ms/step - loss: 0.5604 - binary_accuracy: 0.7019 - val_loss: 0.5887 - val_binary_accuracy: 0.6830\n",
            "Epoch 166/200\n",
            "44/44 [==============================] - 0s 4ms/step - loss: 0.5628 - binary_accuracy: 0.6995 - val_loss: 0.5895 - val_binary_accuracy: 0.6876\n",
            "Epoch 167/200\n",
            "44/44 [==============================] - 0s 4ms/step - loss: 0.5613 - binary_accuracy: 0.7019 - val_loss: 0.5905 - val_binary_accuracy: 0.6839\n",
            "Epoch 168/200\n",
            "44/44 [==============================] - 0s 4ms/step - loss: 0.5599 - binary_accuracy: 0.7042 - val_loss: 0.5871 - val_binary_accuracy: 0.6911\n",
            "Epoch 169/200\n",
            "44/44 [==============================] - 0s 4ms/step - loss: 0.5595 - binary_accuracy: 0.7043 - val_loss: 0.5884 - val_binary_accuracy: 0.6849\n",
            "Epoch 170/200\n",
            "44/44 [==============================] - 0s 3ms/step - loss: 0.5580 - binary_accuracy: 0.7063 - val_loss: 0.5868 - val_binary_accuracy: 0.6849\n",
            "Epoch 171/200\n",
            "44/44 [==============================] - 0s 4ms/step - loss: 0.5594 - binary_accuracy: 0.7023 - val_loss: 0.5874 - val_binary_accuracy: 0.6803\n",
            "Epoch 172/200\n",
            "44/44 [==============================] - 0s 4ms/step - loss: 0.5632 - binary_accuracy: 0.6972 - val_loss: 0.5854 - val_binary_accuracy: 0.6849\n",
            "Epoch 173/200\n",
            "44/44 [==============================] - 0s 4ms/step - loss: 0.5594 - binary_accuracy: 0.7009 - val_loss: 0.5864 - val_binary_accuracy: 0.6859\n",
            "Epoch 174/200\n",
            "44/44 [==============================] - 0s 3ms/step - loss: 0.5535 - binary_accuracy: 0.7047 - val_loss: 0.5826 - val_binary_accuracy: 0.6880\n",
            "Epoch 175/200\n",
            "44/44 [==============================] - 0s 3ms/step - loss: 0.5558 - binary_accuracy: 0.7050 - val_loss: 0.5845 - val_binary_accuracy: 0.6886\n",
            "Epoch 176/200\n",
            "44/44 [==============================] - 0s 4ms/step - loss: 0.5565 - binary_accuracy: 0.7034 - val_loss: 0.5883 - val_binary_accuracy: 0.6853\n",
            "Epoch 177/200\n",
            "44/44 [==============================] - 0s 3ms/step - loss: 0.5595 - binary_accuracy: 0.7005 - val_loss: 0.5839 - val_binary_accuracy: 0.6909\n",
            "Epoch 178/200\n",
            "44/44 [==============================] - 0s 3ms/step - loss: 0.5567 - binary_accuracy: 0.7058 - val_loss: 0.5838 - val_binary_accuracy: 0.6905\n",
            "Epoch 179/200\n",
            "44/44 [==============================] - 0s 4ms/step - loss: 0.5603 - binary_accuracy: 0.7030 - val_loss: 0.5820 - val_binary_accuracy: 0.6924\n",
            "Epoch 180/200\n",
            "44/44 [==============================] - 0s 3ms/step - loss: 0.5563 - binary_accuracy: 0.7052 - val_loss: 0.5819 - val_binary_accuracy: 0.6913\n",
            "Epoch 181/200\n",
            "44/44 [==============================] - 0s 3ms/step - loss: 0.5551 - binary_accuracy: 0.7037 - val_loss: 0.5846 - val_binary_accuracy: 0.6928\n",
            "Epoch 182/200\n",
            "44/44 [==============================] - 0s 3ms/step - loss: 0.5591 - binary_accuracy: 0.7030 - val_loss: 0.5813 - val_binary_accuracy: 0.6895\n",
            "Epoch 183/200\n",
            "44/44 [==============================] - 0s 3ms/step - loss: 0.5520 - binary_accuracy: 0.7070 - val_loss: 0.5849 - val_binary_accuracy: 0.6892\n",
            "Epoch 184/200\n",
            "44/44 [==============================] - 0s 4ms/step - loss: 0.5552 - binary_accuracy: 0.7037 - val_loss: 0.5834 - val_binary_accuracy: 0.6828\n",
            "Epoch 185/200\n",
            "44/44 [==============================] - 0s 4ms/step - loss: 0.5532 - binary_accuracy: 0.7082 - val_loss: 0.5823 - val_binary_accuracy: 0.6880\n",
            "Epoch 186/200\n",
            "44/44 [==============================] - 0s 4ms/step - loss: 0.5526 - binary_accuracy: 0.7114 - val_loss: 0.5800 - val_binary_accuracy: 0.6911\n",
            "Epoch 187/200\n",
            "44/44 [==============================] - 0s 4ms/step - loss: 0.5558 - binary_accuracy: 0.7057 - val_loss: 0.5836 - val_binary_accuracy: 0.6870\n",
            "Epoch 188/200\n",
            "44/44 [==============================] - 0s 4ms/step - loss: 0.5561 - binary_accuracy: 0.7025 - val_loss: 0.5877 - val_binary_accuracy: 0.6791\n",
            "Epoch 189/200\n",
            "44/44 [==============================] - 0s 4ms/step - loss: 0.5529 - binary_accuracy: 0.7091 - val_loss: 0.5779 - val_binary_accuracy: 0.6917\n",
            "Epoch 190/200\n",
            "44/44 [==============================] - 0s 4ms/step - loss: 0.5473 - binary_accuracy: 0.7156 - val_loss: 0.5798 - val_binary_accuracy: 0.6897\n",
            "Epoch 191/200\n",
            "44/44 [==============================] - 0s 4ms/step - loss: 0.5516 - binary_accuracy: 0.7113 - val_loss: 0.5780 - val_binary_accuracy: 0.6924\n",
            "Epoch 192/200\n",
            "44/44 [==============================] - 0s 4ms/step - loss: 0.5548 - binary_accuracy: 0.7035 - val_loss: 0.5789 - val_binary_accuracy: 0.6932\n",
            "Epoch 193/200\n",
            "44/44 [==============================] - 0s 3ms/step - loss: 0.5505 - binary_accuracy: 0.7099 - val_loss: 0.5762 - val_binary_accuracy: 0.6917\n",
            "Epoch 194/200\n",
            "44/44 [==============================] - 0s 4ms/step - loss: 0.5484 - binary_accuracy: 0.7104 - val_loss: 0.5827 - val_binary_accuracy: 0.6903\n",
            "Epoch 195/200\n",
            "44/44 [==============================] - 0s 4ms/step - loss: 0.5519 - binary_accuracy: 0.7068 - val_loss: 0.5789 - val_binary_accuracy: 0.6915\n",
            "Epoch 196/200\n",
            "44/44 [==============================] - 0s 3ms/step - loss: 0.5545 - binary_accuracy: 0.7053 - val_loss: 0.5780 - val_binary_accuracy: 0.6907\n",
            "Epoch 197/200\n",
            "44/44 [==============================] - 0s 4ms/step - loss: 0.5509 - binary_accuracy: 0.7063 - val_loss: 0.5753 - val_binary_accuracy: 0.6957\n",
            "Epoch 198/200\n",
            "44/44 [==============================] - 0s 4ms/step - loss: 0.5503 - binary_accuracy: 0.7125 - val_loss: 0.5805 - val_binary_accuracy: 0.6884\n",
            "Epoch 199/200\n",
            "44/44 [==============================] - 0s 4ms/step - loss: 0.5518 - binary_accuracy: 0.7086 - val_loss: 0.5787 - val_binary_accuracy: 0.6982\n",
            "Epoch 200/200\n",
            "44/44 [==============================] - 0s 4ms/step - loss: 0.5473 - binary_accuracy: 0.7134 - val_loss: 0.5757 - val_binary_accuracy: 0.7011\n"
          ],
          "name": "stdout"
        },
        {
          "output_type": "execute_result",
          "data": {
            "text/plain": [
              "<tensorflow.python.keras.callbacks.History at 0x7fe3b91da7f0>"
            ]
          },
          "metadata": {
            "tags": []
          },
          "execution_count": 68
        }
      ]
    },
    {
      "cell_type": "code",
      "metadata": {
        "id": "jF66RsXbVkFV",
        "outputId": "8ce92d83-9dc5-4b91-8852-edacb2da3abd",
        "colab": {
          "base_uri": "https://localhost:8080/",
          "height": 282
        }
      },
      "source": [
        "pd.DataFrame(model_new.history.history)[['loss','val_loss']].plot() #The graph shows that, by adding in Dropout layers, we have reduced the overfitting issue compared with the old model"
      ],
      "execution_count": null,
      "outputs": [
        {
          "output_type": "execute_result",
          "data": {
            "text/plain": [
              "<matplotlib.axes._subplots.AxesSubplot at 0x7fe3b91ad400>"
            ]
          },
          "metadata": {
            "tags": []
          },
          "execution_count": 69
        },
        {
          "output_type": "display_data",
          "data": {
            "image/png": "[encoded data removed]",
            "text/plain": [
              "<Figure size 432x288 with 1 Axes>"
            ]
          },
          "metadata": {
            "tags": []
          }
        }
      ]
    },
    {
      "cell_type": "code",
      "metadata": {
        "id": "AKfzO7NxVqlF",
        "outputId": "f0bf583c-cd2b-4f16-e822-e4a54f74eeba",
        "colab": {
          "base_uri": "https://localhost:8080/"
        }
      },
      "source": [
        "predictions_new = (model_new.predict_proba(X_test) >= 0.2).astype('int')\n",
        "\n",
        "print(\n",
        "        confusion_matrix(y_test,predictions_new), \n",
        "        '\\n', \n",
        "        classification_report(y_test,predictions_new)\n",
        ")"
      ],
      "execution_count": null,
      "outputs": [
        {
          "output_type": "stream",
          "text": [
            "WARNING:tensorflow:From <ipython-input-70-0e49b3c00232>:1: Sequential.predict_proba (from tensorflow.python.keras.engine.sequential) is deprecated and will be removed after 2021-01-01.\n",
            "Instructions for updating:\n",
            "Please use `model.predict()` instead.\n",
            "[[ 522 1915]\n",
            " [  53 2337]] \n",
            "               precision    recall  f1-score   support\n",
            "\n",
            "           0       0.91      0.21      0.35      2437\n",
            "           1       0.55      0.98      0.70      2390\n",
            "\n",
            "    accuracy                           0.59      4827\n",
            "   macro avg       0.73      0.60      0.53      4827\n",
            "weighted avg       0.73      0.59      0.52      4827\n",
            "\n"
          ],
          "name": "stdout"
        }
      ]
    },
    {
      "cell_type": "code",
      "metadata": {
        "id": "i_B5YLjJV1AV"
      },
      "source": [
        "dump(scaler, open('scaler.pkl', 'wb'))\n",
        "model_new.save('my_model_lending_club.h5')"
      ],
      "execution_count": null,
      "outputs": []
    },
    {
      "cell_type": "code",
      "metadata": {
        "id": "37Nhj_JRV4PV"
      },
      "source": [
        "later_scaler = load(open('scaler.pkl', 'rb'))\n",
        "later_model = load_model('my_model_lending_club.h5')\n",
        "\n"
      ],
      "execution_count": null,
      "outputs": []
    },
    {
      "cell_type": "code",
      "metadata": {
        "id": "S-TAxP3OWPcl",
        "outputId": "33705fd8-11ee-4178-917f-69994b81547f",
        "colab": {
          "base_uri": "https://localhost:8080/"
        }
      },
      "source": [
        "X_OOT = to_pred.drop('not.fully.paid', axis=1).values\n",
        "to_pred.drop('not.fully.paid', axis=1).values\n",
        "\n",
        "print(X_OOT.shape)"
      ],
      "execution_count": null,
      "outputs": [
        {
          "output_type": "stream",
          "text": [
            "(0, 15)\n"
          ],
          "name": "stdout"
        }
      ]
    },
    {
      "cell_type": "code",
      "metadata": {
        "id": "mmWaKZ_gZ0UD"
      },
      "source": [
        ""
      ],
      "execution_count": null,
      "outputs": []
    },
    {
      "cell_type": "code",
      "metadata": {
        "id": "QOMVEPGAVwl1"
      },
      "source": [
        "\n"
      ],
      "execution_count": null,
      "outputs": []
    },
    {
      "cell_type": "code",
      "metadata": {
        "id": "3M-9kCkGaRDW"
      },
      "source": [
        ""
      ],
      "execution_count": null,
      "outputs": []
    }
  ]
}